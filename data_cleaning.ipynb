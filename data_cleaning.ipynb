{
 "cells": [
  {
   "cell_type": "code",
   "execution_count": 21,
   "metadata": {},
   "outputs": [],
   "source": [
    "%%capture\n",
    "%pip install pandas\n",
    "%pip install scikit-learn\n",
    "%pip install numpy\n",
    "import pandas as pd\n",
    "from sklearn.preprocessing import LabelEncoder\n",
    "import numpy as np"
   ]
  },
  {
   "cell_type": "code",
   "execution_count": 22,
   "metadata": {},
   "outputs": [],
   "source": [
    "# Load initial dataset\n",
    "initial_df = pd.read_csv('./datasets/accions.csv')\n",
    "initial_df.drop(['Usuari', 'Representat'], axis=1, inplace=True)"
   ]
  },
  {
   "cell_type": "code",
   "execution_count": null,
   "metadata": {},
   "outputs": [],
   "source": [
    "# Actions by session (deprecated)\n",
    "session_counts = initial_df.groupby('Sessio').size()\n",
    "count_by_rows = session_counts.value_counts().sort_index()\n",
    "result = pd.DataFrame({\n",
    "    'row_count': [1, 2, 3, 4, '>5'],\n",
    "    'num_sessions': [\n",
    "        count_by_rows.get(1, 0),\n",
    "        count_by_rows.get(2, 0),\n",
    "        count_by_rows.get(3, 0),\n",
    "        count_by_rows.get(4, 0),\n",
    "        count_by_rows[count_by_rows.index > 5].sum()\n",
    "    ]\n",
    "})\n",
    "result"
   ]
  },
  {
   "cell_type": "code",
   "execution_count": null,
   "metadata": {},
   "outputs": [],
   "source": [
    "# Removed single-action sessions (deprecated)\n",
    "session_counts = initial_df.groupby('Sessio').size().reset_index(name='count')\n",
    "sessions_to_keep = session_counts[session_counts['count'] > 1]\n",
    "df = initial_df[initial_df['Sessio'].isin(sessions_to_keep['Sessio'])]"
   ]
  },
  {
   "cell_type": "code",
   "execution_count": 23,
   "metadata": {},
   "outputs": [],
   "source": [
    "# Remove sessions with less than n actions\n",
    "n = 4\n",
    "session_counts = initial_df.groupby('Sessio').size().reset_index(name='count')\n",
    "sessions_to_keep = session_counts[session_counts['count'] >= n]\n",
    "df = initial_df[initial_df['Sessio'].isin(sessions_to_keep['Sessio'])]"
   ]
  },
  {
   "cell_type": "code",
   "execution_count": 24,
   "metadata": {},
   "outputs": [],
   "source": [
    "# Encode action values\n",
    "df = df.copy()  # If df is a subset of another dataframe, make an explicit copy first\n",
    "df['Accio_Tramit'] = df['Accio'] + '_' + df['Tramit']\n",
    "label_encoder = LabelEncoder()\n",
    "df['action_id'] = label_encoder.fit_transform(df['Accio_Tramit'])\n",
    "df.drop(['Accio', 'Tramit', 'Accio_Tramit'], axis=1, inplace=True)"
   ]
  },
  {
   "cell_type": "code",
   "execution_count": 25,
   "metadata": {},
   "outputs": [],
   "source": [
    "# Store sequences in a dictionary in order\n",
    "df_sorted = df.sort_values(by=['Sessio', 'Data'])\n",
    "session_sequences = {}\n",
    "for session_id, group in df_sorted.groupby('Sessio'):\n",
    "    action_sequence = group['action_id'].tolist()\n",
    "    session_sequences[session_id] = action_sequence"
   ]
  },
  {
   "cell_type": "code",
   "execution_count": 26,
   "metadata": {},
   "outputs": [],
   "source": [
    "num_actions = len(label_encoder.classes_)\n",
    "embedding_dim = 50\n",
    "embedding_map = {}\n",
    "for action_id in range(num_actions):\n",
    "    random_embedding = np.random.randn(embedding_dim).astype(np.float32)\n",
    "    embedding_map[action_id] = random_embedding"
   ]
  },
  {
   "cell_type": "code",
   "execution_count": 29,
   "metadata": {},
   "outputs": [],
   "source": [
    "# Generate sequences embeddings\n",
    "sequence_data = []\n",
    "for session_id, action_sequence in session_sequences.items():\n",
    "    for i in range(len(action_sequence) - 3):\n",
    "        input1 = embedding_map[action_sequence[i]]\n",
    "        input2 = embedding_map[action_sequence[i + 1]]\n",
    "        input3 = embedding_map[action_sequence[i + 2]]\n",
    "        label = embedding_map[action_sequence[i + 3]]\n",
    "        sequence_data.append((input1, input2, input3, label))"
   ]
  },
  {
   "cell_type": "code",
   "execution_count": null,
   "metadata": {},
   "outputs": [],
   "source": [
    "# Generate sequences + label one-hot (deprecated)\n",
    "num_actions = len(label_encoder.classes_)\n",
    "def one_hot_encode(action_id, num_classes):\n",
    "    one_hot_vector = np.zeros(num_classes, dtype=np.int8)\n",
    "    one_hot_vector[action_id] = 1\n",
    "    return one_hot_vector\n",
    "sequence_data = []\n",
    "\n",
    "for session_id, action_sequence in session_sequences.items():\n",
    "    for i in range(len(action_sequence) - 3):\n",
    "        input1 = one_hot_encode(action_sequence[i], num_actions)\n",
    "        input2 = one_hot_encode(action_sequence[i + 1], num_actions)\n",
    "        input3 = one_hot_encode(action_sequence[i + 2], num_actions)\n",
    "        label = one_hot_encode(action_sequence[i + 3], num_actions)\n",
    "        sequence_data.append((input1, input2, input3, label))"
   ]
  },
  {
   "cell_type": "code",
   "execution_count": 30,
   "metadata": {},
   "outputs": [
    {
     "name": "stdout",
     "output_type": "stream",
     "text": [
      "1837252\n",
      "(array([ 0.560104  , -1.2443599 ,  0.24320407, -0.55655557,  0.6899699 ,\n",
      "        1.225055  , -1.2968394 ,  1.4089557 ,  0.9985551 , -0.49891   ,\n",
      "        1.3149197 ,  0.28642792,  0.83909076, -1.6275573 ,  0.14795668,\n",
      "       -0.54824567,  0.6784365 , -1.0792032 ,  0.04030007,  0.8015891 ,\n",
      "       -1.9001613 ,  1.9727807 , -0.47027194,  0.96602154,  0.62383544,\n",
      "       -1.5227431 ,  0.28896347,  0.03794384,  1.0415932 , -1.1073035 ,\n",
      "       -0.9342644 , -0.0315561 , -0.19095355, -0.47510934, -0.8628383 ,\n",
      "       -2.6398306 ,  0.04242746, -0.6909476 ,  1.8770038 , -0.95575356,\n",
      "       -0.27185607,  0.891469  ,  0.44863716,  0.02669654, -0.42737186,\n",
      "        0.04919973,  0.37200773, -0.02590366, -0.3990094 ,  2.0886755 ],\n",
      "      dtype=float32), array([ 0.560104  , -1.2443599 ,  0.24320407, -0.55655557,  0.6899699 ,\n",
      "        1.225055  , -1.2968394 ,  1.4089557 ,  0.9985551 , -0.49891   ,\n",
      "        1.3149197 ,  0.28642792,  0.83909076, -1.6275573 ,  0.14795668,\n",
      "       -0.54824567,  0.6784365 , -1.0792032 ,  0.04030007,  0.8015891 ,\n",
      "       -1.9001613 ,  1.9727807 , -0.47027194,  0.96602154,  0.62383544,\n",
      "       -1.5227431 ,  0.28896347,  0.03794384,  1.0415932 , -1.1073035 ,\n",
      "       -0.9342644 , -0.0315561 , -0.19095355, -0.47510934, -0.8628383 ,\n",
      "       -2.6398306 ,  0.04242746, -0.6909476 ,  1.8770038 , -0.95575356,\n",
      "       -0.27185607,  0.891469  ,  0.44863716,  0.02669654, -0.42737186,\n",
      "        0.04919973,  0.37200773, -0.02590366, -0.3990094 ,  2.0886755 ],\n",
      "      dtype=float32), array([ 0.560104  , -1.2443599 ,  0.24320407, -0.55655557,  0.6899699 ,\n",
      "        1.225055  , -1.2968394 ,  1.4089557 ,  0.9985551 , -0.49891   ,\n",
      "        1.3149197 ,  0.28642792,  0.83909076, -1.6275573 ,  0.14795668,\n",
      "       -0.54824567,  0.6784365 , -1.0792032 ,  0.04030007,  0.8015891 ,\n",
      "       -1.9001613 ,  1.9727807 , -0.47027194,  0.96602154,  0.62383544,\n",
      "       -1.5227431 ,  0.28896347,  0.03794384,  1.0415932 , -1.1073035 ,\n",
      "       -0.9342644 , -0.0315561 , -0.19095355, -0.47510934, -0.8628383 ,\n",
      "       -2.6398306 ,  0.04242746, -0.6909476 ,  1.8770038 , -0.95575356,\n",
      "       -0.27185607,  0.891469  ,  0.44863716,  0.02669654, -0.42737186,\n",
      "        0.04919973,  0.37200773, -0.02590366, -0.3990094 ,  2.0886755 ],\n",
      "      dtype=float32), array([ 0.560104  , -1.2443599 ,  0.24320407, -0.55655557,  0.6899699 ,\n",
      "        1.225055  , -1.2968394 ,  1.4089557 ,  0.9985551 , -0.49891   ,\n",
      "        1.3149197 ,  0.28642792,  0.83909076, -1.6275573 ,  0.14795668,\n",
      "       -0.54824567,  0.6784365 , -1.0792032 ,  0.04030007,  0.8015891 ,\n",
      "       -1.9001613 ,  1.9727807 , -0.47027194,  0.96602154,  0.62383544,\n",
      "       -1.5227431 ,  0.28896347,  0.03794384,  1.0415932 , -1.1073035 ,\n",
      "       -0.9342644 , -0.0315561 , -0.19095355, -0.47510934, -0.8628383 ,\n",
      "       -2.6398306 ,  0.04242746, -0.6909476 ,  1.8770038 , -0.95575356,\n",
      "       -0.27185607,  0.891469  ,  0.44863716,  0.02669654, -0.42737186,\n",
      "        0.04919973,  0.37200773, -0.02590366, -0.3990094 ,  2.0886755 ],\n",
      "      dtype=float32))\n"
     ]
    }
   ],
   "source": [
    "print(len(sequence_data))\n",
    "print(sequence_data[0])"
   ]
  }
 ],
 "metadata": {
  "kernelspec": {
   "display_name": "base",
   "language": "python",
   "name": "python3"
  },
  "language_info": {
   "codemirror_mode": {
    "name": "ipython",
    "version": 3
   },
   "file_extension": ".py",
   "mimetype": "text/x-python",
   "name": "python",
   "nbconvert_exporter": "python",
   "pygments_lexer": "ipython3",
   "version": "3.11.5"
  }
 },
 "nbformat": 4,
 "nbformat_minor": 2
}
