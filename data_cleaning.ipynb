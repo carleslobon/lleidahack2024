{
 "cells": [
  {
   "cell_type": "code",
   "execution_count": null,
   "metadata": {},
   "outputs": [
    {
     "name": "stdout",
     "output_type": "stream",
     "text": [
      "Requirement already satisfied: pandas in /home/gerard/miniconda3/lib/python3.11/site-packages (2.1.3)\n",
      "Requirement already satisfied: numpy<2,>=1.23.2 in /home/gerard/miniconda3/lib/python3.11/site-packages (from pandas) (1.26.1)\n",
      "Requirement already satisfied: python-dateutil>=2.8.2 in /home/gerard/.local/lib/python3.11/site-packages (from pandas) (2.9.0.post0)\n",
      "Requirement already satisfied: pytz>=2020.1 in /home/gerard/miniconda3/lib/python3.11/site-packages (from pandas) (2024.1)\n",
      "Requirement already satisfied: tzdata>=2022.1 in /home/gerard/miniconda3/lib/python3.11/site-packages (from pandas) (2023.3)\n",
      "Requirement already satisfied: six>=1.5 in /home/gerard/miniconda3/lib/python3.11/site-packages (from python-dateutil>=2.8.2->pandas) (1.16.0)\n",
      "Note: you may need to restart the kernel to use updated packages.\n",
      "Requirement already satisfied: scikit-learn in /home/gerard/miniconda3/lib/python3.11/site-packages (1.5.2)\n",
      "Requirement already satisfied: numpy>=1.19.5 in /home/gerard/miniconda3/lib/python3.11/site-packages (from scikit-learn) (1.26.1)\n",
      "Requirement already satisfied: scipy>=1.6.0 in /home/gerard/miniconda3/lib/python3.11/site-packages (from scikit-learn) (1.14.1)\n",
      "Requirement already satisfied: joblib>=1.2.0 in /home/gerard/miniconda3/lib/python3.11/site-packages (from scikit-learn) (1.4.2)\n",
      "Requirement already satisfied: threadpoolctl>=3.1.0 in /home/gerard/miniconda3/lib/python3.11/site-packages (from scikit-learn) (3.5.0)\n",
      "Note: you may need to restart the kernel to use updated packages.\n",
      "Requirement already satisfied: numpy in /home/gerard/miniconda3/lib/python3.11/site-packages (1.26.1)\n",
      "Note: you may need to restart the kernel to use updated packages.\n",
      "Requirement already satisfied: sentence-transformers in /home/gerard/miniconda3/lib/python3.11/site-packages (3.3.1)\n",
      "Requirement already satisfied: transformers<5.0.0,>=4.41.0 in /home/gerard/miniconda3/lib/python3.11/site-packages (from sentence-transformers) (4.46.3)\n",
      "Requirement already satisfied: tqdm in /home/gerard/miniconda3/lib/python3.11/site-packages (from sentence-transformers) (4.65.0)\n",
      "Requirement already satisfied: torch>=1.11.0 in /home/gerard/miniconda3/lib/python3.11/site-packages (from sentence-transformers) (2.5.1)\n",
      "Requirement already satisfied: scikit-learn in /home/gerard/miniconda3/lib/python3.11/site-packages (from sentence-transformers) (1.5.2)\n",
      "Requirement already satisfied: scipy in /home/gerard/miniconda3/lib/python3.11/site-packages (from sentence-transformers) (1.14.1)\n",
      "Requirement already satisfied: huggingface-hub>=0.20.0 in /home/gerard/miniconda3/lib/python3.11/site-packages (from sentence-transformers) (0.26.2)\n",
      "Requirement already satisfied: Pillow in /home/gerard/miniconda3/lib/python3.11/site-packages (from sentence-transformers) (10.2.0)\n",
      "Requirement already satisfied: filelock in /home/gerard/miniconda3/lib/python3.11/site-packages (from huggingface-hub>=0.20.0->sentence-transformers) (3.16.1)\n",
      "Requirement already satisfied: fsspec>=2023.5.0 in /home/gerard/miniconda3/lib/python3.11/site-packages (from huggingface-hub>=0.20.0->sentence-transformers) (2024.10.0)\n",
      "Requirement already satisfied: packaging>=20.9 in /home/gerard/.local/lib/python3.11/site-packages (from huggingface-hub>=0.20.0->sentence-transformers) (24.2)\n",
      "Requirement already satisfied: pyyaml>=5.1 in /home/gerard/miniconda3/lib/python3.11/site-packages (from huggingface-hub>=0.20.0->sentence-transformers) (6.0.2)\n",
      "Requirement already satisfied: requests in /home/gerard/miniconda3/lib/python3.11/site-packages (from huggingface-hub>=0.20.0->sentence-transformers) (2.32.3)\n",
      "Requirement already satisfied: typing-extensions>=3.7.4.3 in /home/gerard/.local/lib/python3.11/site-packages (from huggingface-hub>=0.20.0->sentence-transformers) (4.12.2)\n",
      "Requirement already satisfied: networkx in /home/gerard/miniconda3/lib/python3.11/site-packages (from torch>=1.11.0->sentence-transformers) (3.4.2)\n",
      "Requirement already satisfied: jinja2 in /home/gerard/miniconda3/lib/python3.11/site-packages (from torch>=1.11.0->sentence-transformers) (3.1.2)\n",
      "Requirement already satisfied: nvidia-cuda-nvrtc-cu12==12.4.127 in /home/gerard/miniconda3/lib/python3.11/site-packages (from torch>=1.11.0->sentence-transformers) (12.4.127)\n",
      "Requirement already satisfied: nvidia-cuda-runtime-cu12==12.4.127 in /home/gerard/miniconda3/lib/python3.11/site-packages (from torch>=1.11.0->sentence-transformers) (12.4.127)\n",
      "Requirement already satisfied: nvidia-cuda-cupti-cu12==12.4.127 in /home/gerard/miniconda3/lib/python3.11/site-packages (from torch>=1.11.0->sentence-transformers) (12.4.127)\n",
      "Requirement already satisfied: nvidia-cudnn-cu12==9.1.0.70 in /home/gerard/miniconda3/lib/python3.11/site-packages (from torch>=1.11.0->sentence-transformers) (9.1.0.70)\n",
      "Requirement already satisfied: nvidia-cublas-cu12==12.4.5.8 in /home/gerard/miniconda3/lib/python3.11/site-packages (from torch>=1.11.0->sentence-transformers) (12.4.5.8)\n",
      "Requirement already satisfied: nvidia-cufft-cu12==11.2.1.3 in /home/gerard/miniconda3/lib/python3.11/site-packages (from torch>=1.11.0->sentence-transformers) (11.2.1.3)\n",
      "Requirement already satisfied: nvidia-curand-cu12==10.3.5.147 in /home/gerard/miniconda3/lib/python3.11/site-packages (from torch>=1.11.0->sentence-transformers) (10.3.5.147)\n",
      "Requirement already satisfied: nvidia-cusolver-cu12==11.6.1.9 in /home/gerard/miniconda3/lib/python3.11/site-packages (from torch>=1.11.0->sentence-transformers) (11.6.1.9)\n",
      "Requirement already satisfied: nvidia-cusparse-cu12==12.3.1.170 in /home/gerard/miniconda3/lib/python3.11/site-packages (from torch>=1.11.0->sentence-transformers) (12.3.1.170)\n",
      "Requirement already satisfied: nvidia-nccl-cu12==2.21.5 in /home/gerard/miniconda3/lib/python3.11/site-packages (from torch>=1.11.0->sentence-transformers) (2.21.5)\n",
      "Requirement already satisfied: nvidia-nvtx-cu12==12.4.127 in /home/gerard/miniconda3/lib/python3.11/site-packages (from torch>=1.11.0->sentence-transformers) (12.4.127)\n",
      "Requirement already satisfied: nvidia-nvjitlink-cu12==12.4.127 in /home/gerard/miniconda3/lib/python3.11/site-packages (from torch>=1.11.0->sentence-transformers) (12.4.127)\n",
      "Requirement already satisfied: triton==3.1.0 in /home/gerard/miniconda3/lib/python3.11/site-packages (from torch>=1.11.0->sentence-transformers) (3.1.0)\n",
      "Requirement already satisfied: sympy==1.13.1 in /home/gerard/miniconda3/lib/python3.11/site-packages (from torch>=1.11.0->sentence-transformers) (1.13.1)\n",
      "Requirement already satisfied: mpmath<1.4,>=1.1.0 in /home/gerard/miniconda3/lib/python3.11/site-packages (from sympy==1.13.1->torch>=1.11.0->sentence-transformers) (1.3.0)\n",
      "Requirement already satisfied: numpy>=1.17 in /home/gerard/miniconda3/lib/python3.11/site-packages (from transformers<5.0.0,>=4.41.0->sentence-transformers) (1.26.1)\n",
      "Requirement already satisfied: regex!=2019.12.17 in /home/gerard/miniconda3/lib/python3.11/site-packages (from transformers<5.0.0,>=4.41.0->sentence-transformers) (2024.11.6)\n",
      "Requirement already satisfied: tokenizers<0.21,>=0.20 in /home/gerard/miniconda3/lib/python3.11/site-packages (from transformers<5.0.0,>=4.41.0->sentence-transformers) (0.20.3)\n",
      "Requirement already satisfied: safetensors>=0.4.1 in /home/gerard/miniconda3/lib/python3.11/site-packages (from transformers<5.0.0,>=4.41.0->sentence-transformers) (0.4.5)\n",
      "Requirement already satisfied: joblib>=1.2.0 in /home/gerard/miniconda3/lib/python3.11/site-packages (from scikit-learn->sentence-transformers) (1.4.2)\n",
      "Requirement already satisfied: threadpoolctl>=3.1.0 in /home/gerard/miniconda3/lib/python3.11/site-packages (from scikit-learn->sentence-transformers) (3.5.0)\n",
      "Requirement already satisfied: MarkupSafe>=2.0 in /home/gerard/miniconda3/lib/python3.11/site-packages (from jinja2->torch>=1.11.0->sentence-transformers) (2.1.3)\n",
      "Requirement already satisfied: charset-normalizer<4,>=2 in /home/gerard/miniconda3/lib/python3.11/site-packages (from requests->huggingface-hub>=0.20.0->sentence-transformers) (3.3.2)\n",
      "Requirement already satisfied: idna<4,>=2.5 in /home/gerard/miniconda3/lib/python3.11/site-packages (from requests->huggingface-hub>=0.20.0->sentence-transformers) (3.7)\n",
      "Requirement already satisfied: urllib3<3,>=1.21.1 in /home/gerard/miniconda3/lib/python3.11/site-packages (from requests->huggingface-hub>=0.20.0->sentence-transformers) (2.2.1)\n",
      "Requirement already satisfied: certifi>=2017.4.17 in /home/gerard/miniconda3/lib/python3.11/site-packages (from requests->huggingface-hub>=0.20.0->sentence-transformers) (2024.2.2)\n",
      "Note: you may need to restart the kernel to use updated packages.\n",
      "Collecting tf-keras\n",
      "  Obtaining dependency information for tf-keras from https://files.pythonhosted.org/packages/8a/ed/e08afca471299b04a34cd548e64e89d0153eda0e6cf9b715356777e24774/tf_keras-2.18.0-py3-none-any.whl.metadata\n",
      "  Downloading tf_keras-2.18.0-py3-none-any.whl.metadata (1.6 kB)\n",
      "Requirement already satisfied: tensorflow<2.19,>=2.18 in /home/gerard/miniconda3/lib/python3.11/site-packages (from tf-keras) (2.18.0)\n",
      "Requirement already satisfied: absl-py>=1.0.0 in /home/gerard/miniconda3/lib/python3.11/site-packages (from tensorflow<2.19,>=2.18->tf-keras) (2.1.0)\n",
      "Requirement already satisfied: astunparse>=1.6.0 in /home/gerard/miniconda3/lib/python3.11/site-packages (from tensorflow<2.19,>=2.18->tf-keras) (1.6.3)\n",
      "Requirement already satisfied: flatbuffers>=24.3.25 in /home/gerard/miniconda3/lib/python3.11/site-packages (from tensorflow<2.19,>=2.18->tf-keras) (24.3.25)\n",
      "Requirement already satisfied: gast!=0.5.0,!=0.5.1,!=0.5.2,>=0.2.1 in /home/gerard/miniconda3/lib/python3.11/site-packages (from tensorflow<2.19,>=2.18->tf-keras) (0.6.0)\n",
      "Requirement already satisfied: google-pasta>=0.1.1 in /home/gerard/miniconda3/lib/python3.11/site-packages (from tensorflow<2.19,>=2.18->tf-keras) (0.2.0)\n",
      "Requirement already satisfied: libclang>=13.0.0 in /home/gerard/miniconda3/lib/python3.11/site-packages (from tensorflow<2.19,>=2.18->tf-keras) (18.1.1)\n",
      "Requirement already satisfied: opt-einsum>=2.3.2 in /home/gerard/miniconda3/lib/python3.11/site-packages (from tensorflow<2.19,>=2.18->tf-keras) (3.4.0)\n",
      "Requirement already satisfied: packaging in /home/gerard/.local/lib/python3.11/site-packages (from tensorflow<2.19,>=2.18->tf-keras) (24.2)\n",
      "Requirement already satisfied: protobuf!=4.21.0,!=4.21.1,!=4.21.2,!=4.21.3,!=4.21.4,!=4.21.5,<6.0.0dev,>=3.20.3 in /home/gerard/miniconda3/lib/python3.11/site-packages (from tensorflow<2.19,>=2.18->tf-keras) (4.25.0)\n",
      "Requirement already satisfied: requests<3,>=2.21.0 in /home/gerard/miniconda3/lib/python3.11/site-packages (from tensorflow<2.19,>=2.18->tf-keras) (2.32.3)\n",
      "Requirement already satisfied: setuptools in /home/gerard/miniconda3/lib/python3.11/site-packages (from tensorflow<2.19,>=2.18->tf-keras) (69.1.1)\n",
      "Requirement already satisfied: six>=1.12.0 in /home/gerard/miniconda3/lib/python3.11/site-packages (from tensorflow<2.19,>=2.18->tf-keras) (1.16.0)\n",
      "Requirement already satisfied: termcolor>=1.1.0 in /home/gerard/miniconda3/lib/python3.11/site-packages (from tensorflow<2.19,>=2.18->tf-keras) (2.5.0)\n",
      "Requirement already satisfied: typing-extensions>=3.6.6 in /home/gerard/.local/lib/python3.11/site-packages (from tensorflow<2.19,>=2.18->tf-keras) (4.12.2)\n",
      "Requirement already satisfied: wrapt>=1.11.0 in /home/gerard/miniconda3/lib/python3.11/site-packages (from tensorflow<2.19,>=2.18->tf-keras) (1.16.0)\n",
      "Requirement already satisfied: grpcio<2.0,>=1.24.3 in /home/gerard/miniconda3/lib/python3.11/site-packages (from tensorflow<2.19,>=2.18->tf-keras) (1.68.0)\n",
      "Requirement already satisfied: tensorboard<2.19,>=2.18 in /home/gerard/miniconda3/lib/python3.11/site-packages (from tensorflow<2.19,>=2.18->tf-keras) (2.18.0)\n",
      "Requirement already satisfied: keras>=3.5.0 in /home/gerard/miniconda3/lib/python3.11/site-packages (from tensorflow<2.19,>=2.18->tf-keras) (3.6.0)\n",
      "Requirement already satisfied: numpy<2.1.0,>=1.26.0 in /home/gerard/miniconda3/lib/python3.11/site-packages (from tensorflow<2.19,>=2.18->tf-keras) (1.26.1)\n",
      "Requirement already satisfied: h5py>=3.11.0 in /home/gerard/miniconda3/lib/python3.11/site-packages (from tensorflow<2.19,>=2.18->tf-keras) (3.12.1)\n",
      "Requirement already satisfied: ml-dtypes<0.5.0,>=0.4.0 in /home/gerard/miniconda3/lib/python3.11/site-packages (from tensorflow<2.19,>=2.18->tf-keras) (0.4.1)\n",
      "Requirement already satisfied: tensorflow-io-gcs-filesystem>=0.23.1 in /home/gerard/miniconda3/lib/python3.11/site-packages (from tensorflow<2.19,>=2.18->tf-keras) (0.37.1)\n",
      "Requirement already satisfied: wheel<1.0,>=0.23.0 in /home/gerard/miniconda3/lib/python3.11/site-packages (from astunparse>=1.6.0->tensorflow<2.19,>=2.18->tf-keras) (0.42.0)\n",
      "Requirement already satisfied: rich in /home/gerard/miniconda3/lib/python3.11/site-packages (from keras>=3.5.0->tensorflow<2.19,>=2.18->tf-keras) (13.6.0)\n",
      "Requirement already satisfied: namex in /home/gerard/miniconda3/lib/python3.11/site-packages (from keras>=3.5.0->tensorflow<2.19,>=2.18->tf-keras) (0.0.8)\n",
      "Requirement already satisfied: optree in /home/gerard/miniconda3/lib/python3.11/site-packages (from keras>=3.5.0->tensorflow<2.19,>=2.18->tf-keras) (0.13.1)\n",
      "Requirement already satisfied: charset-normalizer<4,>=2 in /home/gerard/miniconda3/lib/python3.11/site-packages (from requests<3,>=2.21.0->tensorflow<2.19,>=2.18->tf-keras) (3.3.2)\n",
      "Requirement already satisfied: idna<4,>=2.5 in /home/gerard/miniconda3/lib/python3.11/site-packages (from requests<3,>=2.21.0->tensorflow<2.19,>=2.18->tf-keras) (3.7)\n",
      "Requirement already satisfied: urllib3<3,>=1.21.1 in /home/gerard/miniconda3/lib/python3.11/site-packages (from requests<3,>=2.21.0->tensorflow<2.19,>=2.18->tf-keras) (2.2.1)\n",
      "Requirement already satisfied: certifi>=2017.4.17 in /home/gerard/miniconda3/lib/python3.11/site-packages (from requests<3,>=2.21.0->tensorflow<2.19,>=2.18->tf-keras) (2024.2.2)\n",
      "Requirement already satisfied: markdown>=2.6.8 in /home/gerard/miniconda3/lib/python3.11/site-packages (from tensorboard<2.19,>=2.18->tensorflow<2.19,>=2.18->tf-keras) (3.7)\n",
      "Requirement already satisfied: tensorboard-data-server<0.8.0,>=0.7.0 in /home/gerard/miniconda3/lib/python3.11/site-packages (from tensorboard<2.19,>=2.18->tensorflow<2.19,>=2.18->tf-keras) (0.7.2)\n",
      "Requirement already satisfied: werkzeug>=1.0.1 in /home/gerard/miniconda3/lib/python3.11/site-packages (from tensorboard<2.19,>=2.18->tensorflow<2.19,>=2.18->tf-keras) (3.1.3)\n",
      "Requirement already satisfied: MarkupSafe>=2.1.1 in /home/gerard/miniconda3/lib/python3.11/site-packages (from werkzeug>=1.0.1->tensorboard<2.19,>=2.18->tensorflow<2.19,>=2.18->tf-keras) (2.1.3)\n",
      "Requirement already satisfied: markdown-it-py>=2.2.0 in /home/gerard/miniconda3/lib/python3.11/site-packages (from rich->keras>=3.5.0->tensorflow<2.19,>=2.18->tf-keras) (3.0.0)\n",
      "Requirement already satisfied: pygments<3.0.0,>=2.13.0 in /home/gerard/miniconda3/lib/python3.11/site-packages (from rich->keras>=3.5.0->tensorflow<2.19,>=2.18->tf-keras) (2.16.1)\n",
      "Requirement already satisfied: mdurl~=0.1 in /home/gerard/miniconda3/lib/python3.11/site-packages (from markdown-it-py>=2.2.0->rich->keras>=3.5.0->tensorflow<2.19,>=2.18->tf-keras) (0.1.2)\n",
      "Downloading tf_keras-2.18.0-py3-none-any.whl (1.7 MB)\n",
      "\u001b[2K   \u001b[38;2;114;156;31m━━━━━━━━━━━━━━━━━━━━━━━━━━━━━━━━━━━━━━━━\u001b[0m \u001b[32m1.7/1.7 MB\u001b[0m \u001b[31m7.8 MB/s\u001b[0m eta \u001b[36m0:00:00\u001b[0m MB/s\u001b[0m eta \u001b[36m0:00:01\u001b[0m:01\u001b[0m\n",
      "\u001b[?25hInstalling collected packages: tf-keras\n",
      "Successfully installed tf-keras-2.18.0\n",
      "Note: you may need to restart the kernel to use updated packages.\n"
     ]
    }
   ],
   "source": [
    "%%capture\n",
    "%pip install pandas\n",
    "%pip install scikit-learn\n",
    "%pip install numpy\n",
    "%pip install sentence-transformers\n",
    "%pip install tf-keras\n",
    "import pandas as pd\n",
    "from sklearn.preprocessing import LabelEncoder\n",
    "import numpy as np\n",
    "from sentence_transformers import SentenceTransformer"
   ]
  },
  {
   "cell_type": "code",
   "execution_count": 5,
   "metadata": {},
   "outputs": [],
   "source": [
    "# Load initial dataset\n",
    "initial_accions_df = pd.read_csv('./datasets/accions.csv')\n",
    "initial_accions_df.drop(['Usuari', 'Representat'], axis=1, inplace=True)\n",
    "initial_tramits_df = pd.read_csv('./datasets/tramits.csv')\n",
    "tramits_map = initial_tramits_df.set_index('Id')['Titol'].to_dict()\n",
    "initial_tramits_df.drop(['Titol'], axis=1, inplace=True)\n",
    "merged_df = initial_accions_df.merge(initial_tramits_df, left_on='Tramit', right_on='Id').drop(['Id'], axis=1)\n"
   ]
  },
  {
   "cell_type": "code",
   "execution_count": null,
   "metadata": {},
   "outputs": [],
   "source": [
    "# Actions by session (deprecated)\n",
    "session_counts = initial_df.groupby('Sessio').size()\n",
    "count_by_rows = session_counts.value_counts().sort_index()\n",
    "result = pd.DataFrame({\n",
    "    'row_count': [1, 2, 3, 4, '>5'],\n",
    "    'num_sessions': [\n",
    "        count_by_rows.get(1, 0),\n",
    "        count_by_rows.get(2, 0),\n",
    "        count_by_rows.get(3, 0),\n",
    "        count_by_rows.get(4, 0),\n",
    "        count_by_rows[count_by_rows.index > 5].sum()\n",
    "    ]\n",
    "})\n",
    "result"
   ]
  },
  {
   "cell_type": "code",
   "execution_count": null,
   "metadata": {},
   "outputs": [],
   "source": [
    "# Removed single-action sessions (deprecated)\n",
    "session_counts = initial_df.groupby('Sessio').size().reset_index(name='count')\n",
    "sessions_to_keep = session_counts[session_counts['count'] > 1]\n",
    "df = initial_df[initial_df['Sessio'].isin(sessions_to_keep['Sessio'])]"
   ]
  },
  {
   "cell_type": "code",
   "execution_count": 6,
   "metadata": {},
   "outputs": [],
   "source": [
    "# Remove non-vigent\n",
    "initial_df = merged_df[merged_df['Vigent']].drop(columns=['Vigent'])\n"
   ]
  },
  {
   "cell_type": "code",
   "execution_count": 7,
   "metadata": {},
   "outputs": [],
   "source": [
    "# Encode action values\n",
    "df = initial_df.copy()  # If df is a subset of another dataframe, make an explicit copy first\n",
    "df['Accio_Tramit'] = df['Accio'] + '_' + df['Tramit']\n",
    "label_encoder = LabelEncoder()\n",
    "df['action_id'] = label_encoder.fit_transform(df['Accio_Tramit'])\n",
    "df.drop(['Accio', 'Tramit', 'Accio_Tramit'], axis=1, inplace=True)\n",
    "df = df.sort_values(by=['Sessio', 'Data'])"
   ]
  },
  {
   "cell_type": "code",
   "execution_count": 8,
   "metadata": {},
   "outputs": [],
   "source": [
    "# Remove repeated actions\n",
    "df = df.loc[\n",
    "    df['action_id'] != df.groupby('Sessio')['action_id'].shift()\n",
    "]"
   ]
  },
  {
   "cell_type": "code",
   "execution_count": 9,
   "metadata": {},
   "outputs": [],
   "source": [
    "# Remove sessions with less than n actions\n",
    "n = 4\n",
    "session_counts = df.groupby('Sessio').size().reset_index(name='count')\n",
    "sessions_to_keep = session_counts[session_counts['count'] >= n]\n",
    "df = df[df['Sessio'].isin(sessions_to_keep['Sessio'])]"
   ]
  },
  {
   "cell_type": "code",
   "execution_count": 10,
   "metadata": {},
   "outputs": [],
   "source": [
    "# Store sequences in a dictionary in order\n",
    "df_sorted = df.sort_values(by=['Sessio', 'Data'])\n",
    "session_sequences = {}\n",
    "for session_id, group in df_sorted.groupby('Sessio'):\n",
    "    action_sequence = group['action_id'].tolist()\n",
    "    session_sequences[session_id] = action_sequence"
   ]
  },
  {
   "cell_type": "code",
   "execution_count": null,
   "metadata": {},
   "outputs": [],
   "source": [
    "# Generate sequences embeddings (deprecated)\n",
    "num_actions = len(label_encoder.classes_)\n",
    "embedding_dim = 50\n",
    "embedding_map = {}\n",
    "for action_id in range(num_actions):\n",
    "    random_embedding = np.random.randn(embedding_dim).astype(np.float32)\n",
    "    embedding_map[action_id] = random_embedding\n",
    "sequence_data = []\n",
    "for session_id, action_sequence in session_sequences.items():\n",
    "    for i in range(len(action_sequence) - 3):\n",
    "        input1 = embedding_map[action_sequence[i]]\n",
    "        input2 = embedding_map[action_sequence[i + 1]]\n",
    "        input3 = embedding_map[action_sequence[i + 2]]\n",
    "        label = embedding_map[action_sequence[i + 3]]\n",
    "        sequence_data.append((input1, input2, input3, label))"
   ]
  },
  {
   "cell_type": "code",
   "execution_count": 16,
   "metadata": {},
   "outputs": [],
   "source": [
    "embedding_map = {}\n",
    "embedding_dim = 384\n",
    "def get_embedding(sentence):\n",
    "    return embedding_model.encode(sentence)\n",
    "action_type_map = {\n",
    "    'AFIT': 'Acces a la fitxa informativa de ',\n",
    "    'AFST': 'Acces a la fitxa de solicitud de ',\n",
    "    'PFST': 'Presentacio del formulari de solicitud de ',\n",
    "}\n",
    "embedding_model = SentenceTransformer('all-MiniLM-L6-v2')\n",
    "for indx, action in enumerate(label_encoder.classes_):\n",
    "    action_type = action.split('_')[0]\n",
    "    tramit_id = action.split('_')[1]\n",
    "    action_text = action_type_map[action_type] + tramits_map[tramit_id]\n",
    "    embedding_map[indx] = get_embedding(action_text)\n",
    "sequence_data = []\n",
    "for session_id, action_sequence in session_sequences.items():\n",
    "    for i in range(len(action_sequence) - 3):\n",
    "        input1 = embedding_map[action_sequence[i]]\n",
    "        input2 = embedding_map[action_sequence[i + 1]]\n",
    "        input3 = embedding_map[action_sequence[i + 2]]\n",
    "        label = embedding_map[action_sequence[i + 3]]\n",
    "        sequence_data.append((input1, input2, input3, label))"
   ]
  },
  {
   "cell_type": "code",
   "execution_count": null,
   "metadata": {},
   "outputs": [
    {
     "data": {
      "text/plain": [
       "384"
      ]
     },
     "execution_count": 14,
     "metadata": {},
     "output_type": "execute_result"
    }
   ],
   "source": []
  },
  {
   "cell_type": "code",
   "execution_count": null,
   "metadata": {},
   "outputs": [],
   "source": [
    "# Generate sequences + label one-hot (deprecated)\n",
    "num_actions = len(label_encoder.classes_)\n",
    "def one_hot_encode(action_id, num_classes):\n",
    "    one_hot_vector = np.zeros(num_classes, dtype=np.int8)\n",
    "    one_hot_vector[action_id] = 1\n",
    "    return one_hot_vector\n",
    "sequence_data = []\n",
    "\n",
    "for session_id, action_sequence in session_sequences.items():\n",
    "    for i in range(len(action_sequence) - 3):\n",
    "        input1 = one_hot_encode(action_sequence[i], num_actions)\n",
    "        input2 = one_hot_encode(action_sequence[i + 1], num_actions)\n",
    "        input3 = one_hot_encode(action_sequence[i + 2], num_actions)\n",
    "        label = one_hot_encode(action_sequence[i + 3], num_actions)\n",
    "        sequence_data.append((input1, input2, input3, label))"
   ]
  },
  {
   "cell_type": "code",
   "execution_count": null,
   "metadata": {},
   "outputs": [],
   "source": [
    "print(len(sequence_data))\n",
    "print(sequence_data[0])"
   ]
  }
 ],
 "metadata": {
  "kernelspec": {
   "display_name": "base",
   "language": "python",
   "name": "python3"
  },
  "language_info": {
   "codemirror_mode": {
    "name": "ipython",
    "version": 3
   },
   "file_extension": ".py",
   "mimetype": "text/x-python",
   "name": "python",
   "nbconvert_exporter": "python",
   "pygments_lexer": "ipython3",
   "version": "3.11.5"
  }
 },
 "nbformat": 4,
 "nbformat_minor": 2
}
