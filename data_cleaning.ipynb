{
 "cells": [
  {
   "cell_type": "code",
   "execution_count": 2,
   "metadata": {},
   "outputs": [],
   "source": [
    "%%capture\n",
    "%pip install pandas\n",
    "%pip install scikit-learn\n",
    "%pip install numpy\n",
    "import pandas as pd\n",
    "from sklearn.preprocessing import LabelEncoder\n",
    "import numpy as np"
   ]
  },
  {
   "cell_type": "code",
   "execution_count": 77,
   "metadata": {},
   "outputs": [],
   "source": [
    "# Load initial dataset\n",
    "initial_accions_df = pd.read_csv('./datasets/accions.csv')\n",
    "initial_accions_df.drop(['Usuari', 'Representat'], axis=1, inplace=True)\n",
    "initial_tramits_df = pd.read_csv('./datasets/tramits.csv')\n",
    "tramits_map = initial_tramits_df.set_index('Id')['Titol'].to_dict()\n",
    "initial_tramits_df.drop(['Titol'], axis=1, inplace=True)\n",
    "merged_df = initial_accions_df.merge(initial_tramits_df, left_on='Tramit', right_on='Id').drop(['Id'], axis=1)\n"
   ]
  },
  {
   "cell_type": "code",
   "execution_count": null,
   "metadata": {},
   "outputs": [],
   "source": [
    "# Actions by session (deprecated)\n",
    "session_counts = initial_df.groupby('Sessio').size()\n",
    "count_by_rows = session_counts.value_counts().sort_index()\n",
    "result = pd.DataFrame({\n",
    "    'row_count': [1, 2, 3, 4, '>5'],\n",
    "    'num_sessions': [\n",
    "        count_by_rows.get(1, 0),\n",
    "        count_by_rows.get(2, 0),\n",
    "        count_by_rows.get(3, 0),\n",
    "        count_by_rows.get(4, 0),\n",
    "        count_by_rows[count_by_rows.index > 5].sum()\n",
    "    ]\n",
    "})\n",
    "result"
   ]
  },
  {
   "cell_type": "code",
   "execution_count": null,
   "metadata": {},
   "outputs": [],
   "source": [
    "# Removed single-action sessions (deprecated)\n",
    "session_counts = initial_df.groupby('Sessio').size().reset_index(name='count')\n",
    "sessions_to_keep = session_counts[session_counts['count'] > 1]\n",
    "df = initial_df[initial_df['Sessio'].isin(sessions_to_keep['Sessio'])]"
   ]
  },
  {
   "cell_type": "code",
   "execution_count": 78,
   "metadata": {},
   "outputs": [],
   "source": [
    "# Remove non-vigent\n",
    "initial_df = merged_df[merged_df['Vigent']].drop(columns=['Vigent'])\n"
   ]
  },
  {
   "cell_type": "code",
   "execution_count": 79,
   "metadata": {},
   "outputs": [],
   "source": [
    "# Encode action values\n",
    "df = initial_df.copy()  # If df is a subset of another dataframe, make an explicit copy first\n",
    "df['Accio_Tramit'] = df['Accio'] + '_' + df['Tramit']\n",
    "label_encoder = LabelEncoder()\n",
    "df['action_id'] = label_encoder.fit_transform(df['Accio_Tramit'])\n",
    "df.drop(['Accio', 'Tramit', 'Accio_Tramit'], axis=1, inplace=True)\n",
    "df = df.sort_values(by=['Sessio', 'Data'])"
   ]
  },
  {
   "cell_type": "code",
   "execution_count": 80,
   "metadata": {},
   "outputs": [],
   "source": [
    "# Remove repeated actions\n",
    "df = df.loc[\n",
    "    df['action_id'] != df.groupby('Sessio')['action_id'].shift()\n",
    "]"
   ]
  },
  {
   "cell_type": "code",
   "execution_count": 81,
   "metadata": {},
   "outputs": [],
   "source": [
    "# Remove sessions with less than n actions\n",
    "n = 4\n",
    "session_counts = df.groupby('Sessio').size().reset_index(name='count')\n",
    "sessions_to_keep = session_counts[session_counts['count'] >= n]\n",
    "df = df[df['Sessio'].isin(sessions_to_keep['Sessio'])]"
   ]
  },
  {
   "cell_type": "code",
   "execution_count": 84,
   "metadata": {},
   "outputs": [],
   "source": [
    "# Store sequences in a dictionary in order\n",
    "df_sorted = df.sort_values(by=['Sessio', 'Data'])\n",
    "session_sequences = {}\n",
    "for session_id, group in df_sorted.groupby('Sessio'):\n",
    "    action_sequence = group['action_id'].tolist()\n",
    "    session_sequences[session_id] = action_sequence"
   ]
  },
  {
   "cell_type": "code",
   "execution_count": 85,
   "metadata": {},
   "outputs": [],
   "source": [
    "# Generate sequences embeddings\n",
    "num_actions = len(label_encoder.classes_)\n",
    "embedding_dim = 50\n",
    "embedding_map = {}\n",
    "for action_id in range(num_actions):\n",
    "    random_embedding = np.random.randn(embedding_dim).astype(np.float32)\n",
    "    embedding_map[action_id] = random_embedding\n",
    "sequence_data = []\n",
    "for session_id, action_sequence in session_sequences.items():\n",
    "    for i in range(len(action_sequence) - 3):\n",
    "        input1 = embedding_map[action_sequence[i]]\n",
    "        input2 = embedding_map[action_sequence[i + 1]]\n",
    "        input3 = embedding_map[action_sequence[i + 2]]\n",
    "        label = embedding_map[action_sequence[i + 3]]\n",
    "        sequence_data.append((input1, input2, input3, label))"
   ]
  },
  {
   "cell_type": "code",
   "execution_count": null,
   "metadata": {},
   "outputs": [],
   "source": [
    "# Generate sequences + label one-hot (deprecated)\n",
    "num_actions = len(label_encoder.classes_)\n",
    "def one_hot_encode(action_id, num_classes):\n",
    "    one_hot_vector = np.zeros(num_classes, dtype=np.int8)\n",
    "    one_hot_vector[action_id] = 1\n",
    "    return one_hot_vector\n",
    "sequence_data = []\n",
    "\n",
    "for session_id, action_sequence in session_sequences.items():\n",
    "    for i in range(len(action_sequence) - 3):\n",
    "        input1 = one_hot_encode(action_sequence[i], num_actions)\n",
    "        input2 = one_hot_encode(action_sequence[i + 1], num_actions)\n",
    "        input3 = one_hot_encode(action_sequence[i + 2], num_actions)\n",
    "        label = one_hot_encode(action_sequence[i + 3], num_actions)\n",
    "        sequence_data.append((input1, input2, input3, label))"
   ]
  },
  {
   "cell_type": "code",
   "execution_count": null,
   "metadata": {},
   "outputs": [],
   "source": [
    "print(len(sequence_data))\n",
    "print(sequence_data[0])"
   ]
  }
 ],
 "metadata": {
  "kernelspec": {
   "display_name": "base",
   "language": "python",
   "name": "python3"
  },
  "language_info": {
   "codemirror_mode": {
    "name": "ipython",
    "version": 3
   },
   "file_extension": ".py",
   "mimetype": "text/x-python",
   "name": "python",
   "nbconvert_exporter": "python",
   "pygments_lexer": "ipython3",
   "version": "3.11.5"
  }
 },
 "nbformat": 4,
 "nbformat_minor": 2
}
