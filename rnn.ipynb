{
 "cells": [
  {
   "cell_type": "markdown",
   "metadata": {},
   "source": [
    "# Data"
   ]
  },
  {
   "cell_type": "code",
   "execution_count": null,
   "metadata": {},
   "outputs": [],
   "source": [
    "%%capture\n",
    "%pip install pandas\n",
    "%pip install scikit-learn\n",
    "%pip install numpy\n",
    "import pandas as pd\n",
    "from sklearn.preprocessing import LabelEncoder\n",
    "import numpy as np\n",
    "\n",
    "\n",
    "# Load initial dataset\n",
    "initial_accions_df = pd.read_csv('./datasets/accions.csv')\n",
    "initial_accions_df.drop(['Usuari', 'Representat'], axis=1, inplace=True)\n",
    "initial_tramits_df = pd.read_csv('./datasets/tramits.csv')\n",
    "tramits_map = initial_tramits_df.set_index('Id')['Titol'].to_dict()\n",
    "initial_tramits_df.drop(['Titol'], axis=1, inplace=True)\n",
    "merged_df = initial_accions_df.merge(initial_tramits_df, left_on='Tramit', right_on='Id').drop(['Id'], axis=1)\n",
    "\n",
    "# Remove non-vigent\n",
    "initial_df = merged_df[merged_df['Vigent']].drop(columns=['Vigent'])\n",
    "\n",
    "# Encode action values\n",
    "df = initial_df.copy()  # If df is a subset of another dataframe, make an explicit copy first\n",
    "df['Accio_Tramit'] = df['Accio'] + '_' + df['Tramit']\n",
    "label_encoder = LabelEncoder()\n",
    "df['action_id'] = label_encoder.fit_transform(df['Accio_Tramit'])\n",
    "df.drop(['Accio', 'Tramit', 'Accio_Tramit'], axis=1, inplace=True)\n",
    "df = df.sort_values(by=['Sessio', 'Data'])\n",
    "\n",
    "# Remove repeated actions\n",
    "df = df.loc[\n",
    "    df['action_id'] != df.groupby('Sessio')['action_id'].shift()\n",
    "]\n",
    "\n",
    "# Remove sessions with less than n actions\n",
    "n = 4\n",
    "session_counts = df.groupby('Sessio').size().reset_index(name='count')\n",
    "sessions_to_keep = session_counts[session_counts['count'] >= n]\n",
    "df = df[df['Sessio'].isin(sessions_to_keep['Sessio'])]\n",
    "\n",
    "# Store sequences in a dictionary in order\n",
    "df_sorted = df.sort_values(by=['Sessio', 'Data'])\n",
    "session_sequences = {}\n",
    "for session_id, group in df_sorted.groupby('Sessio'):\n",
    "    action_sequence = group['action_id'].tolist()\n",
    "    session_sequences[session_id] = action_sequence\n",
    "\n",
    "# Generate sequences embeddings\n",
    "num_actions = len(label_encoder.classes_)\n",
    "embedding_dim = 50\n",
    "embedding_map = {}\n",
    "for action_id in range(num_actions):\n",
    "    random_embedding = np.random.randn(embedding_dim).astype(np.float32)\n",
    "    embedding_map[action_id] = random_embedding\n",
    "sequence_data = []\n",
    "for session_id, action_sequence in session_sequences.items():\n",
    "    for i in range(len(action_sequence) - 3):\n",
    "        input1 = embedding_map[action_sequence[i]]\n",
    "        input2 = embedding_map[action_sequence[i + 1]]\n",
    "        input3 = embedding_map[action_sequence[i + 2]]\n",
    "        label = embedding_map[action_sequence[i + 3]]\n",
    "        sequence_data.append((input1, input2, input3, label))\n",
    "\n",
    "# Cleanup step\n",
    "allowed_variables = {'sequence_data', 'embedding_map', 'embedding_dim', 'num_actions', 'label_encoder', 'tramits_map'}\n",
    "current_variables = set(globals().keys())\n",
    "for variable in current_variables - allowed_variables:\n",
    "    if variable not in ['__builtins__', '__name__', '__doc__', '__package__', '__loader__', '__spec__', '__annotations__', '__file__', '__cached__']:\n",
    "        del globals()[variable]"
   ]
  },
  {
   "cell_type": "code",
   "execution_count": 124,
   "metadata": {},
   "outputs": [],
   "source": [
    "import pickle\n",
    "import os\n",
    "with open(\"./datasets/embeddings.pkl\", \"wb\") as f:\n",
    "    pickle.dump(embedding_map, f)\n",
    "with open(\"./datasets/tramits_map.pkl\", \"wb\") as f:\n",
    "    pickle.dump(tramits_map, f)\n",
    "label_to_encoded = dict(zip(label_encoder.classes_, range(len(label_encoder.classes_))))\n",
    "encoded_to_label = {v: k for k, v in label_to_encoded.items()}\n",
    "\n",
    "# Save the label-to-encoded map to a file\n",
    "with open('./datasets/label_to_encoded.pkl', 'wb') as f:\n",
    "    pickle.dump(label_to_encoded, f)\n",
    "\n",
    "# Save the encoded-to-label map to another file\n",
    "with open('./datasets/encoded_to_label.pkl', 'wb') as f:\n",
    "    pickle.dump(encoded_to_label, f)"
   ]
  },
  {
   "cell_type": "code",
   "execution_count": 126,
   "metadata": {},
   "outputs": [
    {
     "name": "stdout",
     "output_type": "stream",
     "text": [
      "{0: 'AFIT_+1JQhTbg4lgyTIo1IfnXsGHt0uVmFQui/PprXOhQCOQ=', 1: 'AFIT_+9hGyUgYGGqr/1tg7SbHuXM2SdoloC0VruPrL3jtm2A=', 2: 'AFIT_+NoTO0ItlnsY3BVIot97xdqd429P3E5EDa09XUEQHJk=', 3: 'AFIT_+P1T5jsqGWcF0eJ0g9ZX7HHKQdaxE8OTAm9uMUcdRJ8=', 4: 'AFIT_+RMaZY0iNBpUgCTfndSjpDAECoYX+P/GE72G6YD9CjA=', 5: 'AFIT_+Ti5iuCSbvCPrzcrOWtfasZM9ALnysMq1mdbcPGMklg=', 6: 'AFIT_+fMaLoK/BqzaE+L2DM8WjufzaXXcBZG5VcUUspZNkDI=', 7: 'AFIT_+gzoIX67Vc3BDtzzSrI8PH2ofTaYmCgjivWJT/o04e4=', 8: 'AFIT_+kKhgUgWOsYKFrnH+SXCmnqFK3A+DNBjs7OD4T3QuBw=', 9: 'AFIT_/3JQ89bxH5lmeJX6KK7AucRpkUy+FoNooW081i7o8TM=', 10: 'AFIT_/G7JgOWHzNkVUDM/pT0ZHAC6igSeC+EtcTenAR10EMQ=', 11: 'AFIT_/H580/Kb0mC56bGtqZlmQyePH1qgeLRqPBwuLZYZBIE=', 12: 'AFIT_/MTfZFU+61dycpUuENyS9WNWQ2lJzFJpeJimWfP6smY=', 13: 'AFIT_/ZHrTbJK0Er0nTsBomIpAvaB8Sq1Xt+Lb1Bi8lBtaII=', 14: 'AFIT_/bibhZIje8ttoNCixHlQeemRHnz4GjfsbvxDN24M/O4=', 15: 'AFIT_/dIZEULTf8w+C6Hxd609twuaS2HOnKX5iJy3O/KxuEE=', 16: 'AFIT_/o5VxteIj4P6dGS1H8PcQRV1u4NwtgIiJ6jpDu1D4hw=', 17: 'AFIT_/oN4oi0HZ8zVv6XnkX8lY7fCAHXzVxKKnUoyt2AhDuo=', 18: 'AFIT_/wxt/boSaFMKPxB5WUu23+/2PLSjBILyILBzvRlwbiI=', 19: 'AFIT_0Ue+KB4emSbIzCM0jKjd3MD9oPIoTOrhyb+h/Lao9sU=', 20: 'AFIT_0YQd00Wmq6WYN6jpLOJG7XlRiVbymZiciIp0Y7wDtIQ=', 21: 'AFIT_0a80M4FbOTgep5zLFpPnRKjdMoLMzZ5Vmlh8c8FWw3M=', 22: 'AFIT_0dao3mddVErCbfi/BaAxpJYadLEjja4kiJR3SmlXxlw=', 23: 'AFIT_0gbz+MnWl3Qyu4z4S7aRAkbJuqwBpOEcKfld/X11uEs=', 24: 'AFIT_0jS8p15o9r9XGaXxvyRc/6AlIE3O+lr+U+M0txxANYU=', 25: 'AFIT_0ss+KTEEhjAfMHH/E8cE7cTADqvd6rQhPedjJBLWEWo=', 26: 'AFIT_16LYwHmPj4Rl1CX0rpzqxG0iygKYFdkCtRtxsY/MUbA=', 27: 'AFIT_1Md/CMIDv+dA/sqoOlDLAQdHtFGDr9Rs/ZFAepOyXEc=', 28: 'AFIT_1QT18KKL7fLKH0crL55ZJY7PnROgkeJt2z7CsJNiEpM=', 29: 'AFIT_1UHG4CqK3H3c+K8oUlXezIfmeuepDjYkoQFaimOqhK8=', 30: 'AFIT_1V5ROfNCWQgQF1bTglNwfGB+lO0mU4Qg71P+eI/WraU=', 31: 'AFIT_1ZVMBW08dwVlcFGpeIrL/fhBUHPD/e/GeWnxeLebdcA=', 32: 'AFIT_1b0C6oB6OkFDSX62RkGNvZtju5x+gsGyTkwNU+I90w4=', 33: 'AFIT_1hvim4wTH/HbwOfxrmk85JG+O5WdCjNbZ9478ruHXnY=', 34: 'AFIT_1oDRgrwLsa5U4QPmdiAlPgTECan4WKcnpIlulLOekRk=', 35: 'AFIT_28gCU7TlV43mJ2xFHaIxwmiR3BzTA6is+s5Y35NHFsY=', 36: 'AFIT_2DOrd5wHHjYbtrSvQ+SyTH6HUDID5z+XV/cV8aYOSzs=', 37: 'AFIT_2FNAlCwCZFJTzhZeSQHNbqJjvTDFEkq+EvR6MIZlhkE=', 38: 'AFIT_2G4l1Ii3MLxP5Z+n2KiQr+giJvM0LwWsiHnVHrGxZG8=', 39: 'AFIT_2PKHVTv+MkTQ8sVtw182mRKJCgtMHeL8H495KDTYRg8=', 40: 'AFIT_2QpfEaWqPcK0otBl28RH07Z/SeYdvszbpZDokQSOMvc=', 41: 'AFIT_2Qvvkknck5jz5iEpRsax61fo7+amGIEH2F0CxFNT7Y0=', 42: 'AFIT_2VziTnNcOEjz0eJltsX6I8ofI8jPL5W5z+tpe7RnH4o=', 43: 'AFIT_2Xcma8694gLUzbF894moDZhMNKxdocW7ujCcgdxBs3Q=', 44: 'AFIT_2Y8qtsU+7LnCDTGeDlCoIbhsBETmh4WenTl0WWsgO6k=', 45: 'AFIT_2an8wbAuzW5v97zfe88Y68DCCGWXRLe3qPAIXhtMGMI=', 46: 'AFIT_3411giRZaJUVDGGDnzDacc2ihr3g2az9PUOTOAy7tbo=', 47: 'AFIT_3UPs8Ec8pgmpKmleUzPZ8fnBzfpzQAXWHci+OeTIOV4=', 48: 'AFIT_3Zvx8B/3B4C3bLO+B/b2CLEN2QDB7HbHcgoz3Mx/j5A=', 49: 'AFIT_3aR0xA5ZI+N3lXRnz9DpSCjdTfCGDTG1Cs1AtBQq9QE=', 50: 'AFIT_3eRUW+HARtZ/5mCoYzqdRyt9hO1e+JpQAp8iALDLTP4=', 51: 'AFIT_3vRyJl3K3oEshTB0Vi35dD/voVbeoba9vzvTy8bFDIQ=', 52: 'AFIT_4+BHEyXUj0qwFvnfiUPsiGRT2ZPYpyMqd1XqWTpYZ6A=', 53: 'AFIT_490DoH1DQBjn66YXgGs6sIJX2OBhQrYnEdiz442xamk=', 54: 'AFIT_4KE5hVcLhuR5hNmelkoQQkHKbY+pYKWx0izJQGdnvxE=', 55: 'AFIT_4bdD1C3D9WFfnmQVMu6Rn/ClPfZs7RRulgtjRSE0h28=', 56: 'AFIT_4eEU7XxcaSRPrxPNNzwCzhRSjqtYiRd7FgpRFCjoY9E=', 57: 'AFIT_4nXzf/c9SqqPbc1tEFjWDisE7ihWQrnK4Hlzx9UoEjU=', 58: 'AFIT_4zERfiVQAd2HdHmepIUC2i83QY7oTBgzv8UeItSn2hU=', 59: 'AFIT_5AOJgpHwSWik4zfOpQNkjCICo+Lj2wo2ZK8oUuDN2XU=', 60: 'AFIT_5LJf5Piekn+pWF8kLV1ClpZq9Jxr/AQzmUK0SNYcv1U=', 61: 'AFIT_5YxiwwMkKYGOPgCxCcP+8CkJIsmKyrNNN9UbOKbZb2U=', 62: 'AFIT_5gslufbyA8PK/xcvZEad6QeGdtPxny89lL0lri/ZPNw=', 63: 'AFIT_5l54NaLUAJqIjx6arH3KsP2swtoov8PHhOQoEGJDPkQ=', 64: 'AFIT_5vNCVIwbIfJT4IH0z/ADNFqUWFl0+nY1HQOnmYBdjQQ=', 65: 'AFIT_61c2ChKJfLjn4kUK/dBT3mvoNpNZK5mJQE8cb7OmESk=', 66: 'AFIT_6464PMs+P3T+oH9mf+eHqILRJ94T82+ZVajEvy9y23Y=', 67: 'AFIT_6QBY78ng/mOg0xige3Sv6oL3wRHbU5qY/kyoJVqeeaw=', 68: 'AFIT_6SQEx1CTSCHUsKznTVKWBpCfgNjsWwqQTTmM7OywFEE=', 69: 'AFIT_6dh6weta1jFzRG7on1MoqvG5+0CWST9XX35jbsqt1F4=', 70: 'AFIT_6qz5F9e4QdriWKYfesYYu9YDOFiH4bRLUqNCTL6KHZU=', 71: 'AFIT_6ruRKSURKfVwTMFflli1ri+M4TuFoxpIyAjM5Osezlo=', 72: 'AFIT_724ItZuOL/mHyQNkBgWibUQnHvRD2Sh23hRd8dd+6/s=', 73: 'AFIT_7CWPCiRrDXnoeEeqJWpO8pTSODTTHvWBPyFEV1E6zvM=', 74: 'AFIT_7KeFRlUjJq/AEYJEWKLpiDS5OaoiG/7aJ7TVBN3WELk=', 75: 'AFIT_7OKos74xEunvBD3z3AAFYvMX1Y8vQt+CsL47JZU7F8s=', 76: 'AFIT_7TGddiYXIi3/4/EaUK/ycqY/ZpJR9mYs8B0032xkYAM=', 77: 'AFIT_7j8bB1PJmt6W6IOlnwgWNpwyrylSKNCXFRzqRykhGJs=', 78: 'AFIT_7jitRh8ZVopLPgbNVtEI7eh/ew3E0I96IFlNd0q+srE=', 79: 'AFIT_7tDEHLpPbeg4L1HDGm1jyUkXx4EOKSiPoG3kLIkV+OI=', 80: 'AFIT_7uThmvwfX8pBkMzBnjrwVL96CRb4AT4ezaaruf+gzLg=', 81: 'AFIT_7vOSJZ3gZfLhRod1jb78qVvL/ur6JeuKiCOOPjOYj1k=', 82: 'AFIT_8/UBFaC+EC7Cw5iNFFMklEU+XiIvdtdSnPLJu1LhrrY=', 83: 'AFIT_8FckAT1LLackEPO4PZwke6KywXhNG1RwKXllkjdazMo=', 84: 'AFIT_8Hb7+7aAsy1VoOdnmtbqfGHB1RtIJqspmIwbcCYomLA=', 85: 'AFIT_8JmqdX/K8HCSEdM9fi+kzpojZSwTyrQ9xAqLW/af9JA=', 86: 'AFIT_8KiBELIkMWt/c0viQeowIBwHkXxoqz7hr2yU84305iU=', 87: 'AFIT_8Wf49XBgCGcgNABdZXXPWdnO9x9Mch03p/MePiH9d80=', 88: 'AFIT_8cnvn74c+4vTFB4rr8HRpajSvy4TGT5+lLH7PRIGyHU=', 89: 'AFIT_8lDw4xWt9nDupXSCklesmSTFyb5AL82nLym27mn9AyA=', 90: 'AFIT_94t3CjlAjrTVQlEElw83MbgSwrwH4nitLQyr1V/BwHI=', 91: 'AFIT_9GbScvHE4wJvxYqcawKrsFa+QzXbf/xi5xkEucn6P24=', 92: 'AFIT_9aYDunEeEQlVvx5Y1ptqCcrrW7IKTljJ+wi5q9+zWzw=', 93: 'AFIT_9lRHVkyk8MlzXK5dVVJmWVbLC9jFTdjKfZm7nqGnrZI=', 94: 'AFIT_A0Aw2ymtdmpFGD7vwZ1B2uBMWvYsNr0EBawwu0Wbv/w=', 95: 'AFIT_ABTPvhUckI1Oz9TO39q7IFIXgPg55byPvTs6JoL30sI=', 96: 'AFIT_AJzMGh0IPXy8mQyjH91vwAqH19cABHCm/ULXETuYiY8=', 97: 'AFIT_AMG0KtTs/6D06x1m87ZJrKYvBJwPtMJLIyCz69eDsJ8=', 98: 'AFIT_Alt9AX/OcyVL9DQET3k18xe3qB4ZgN4h1o50OE8Eq2Q=', 99: 'AFIT_Awkf0DrO9cE8f08qXldJJ6tM4xpwyZ6fatm1DTWGlTM=', 100: 'AFIT_B2+3eBtBS5YNDdNNtXIYzONvnmUColyw3VK9gJsZvIk=', 101: 'AFIT_B2WhWBx6hc2GAgBEDOGY4Z3bTKBUFuCIzwlBdq0Q9m0=', 102: 'AFIT_BKgtl5SrugPAH6s+Ob6cyUmUfpTKwhEWn8GhTY8yFEE=', 103: 'AFIT_BQEIfAzs+GT6AoOgFnRK+H3bgJqVvk4Y6Vh0bivzD1s=', 104: 'AFIT_BcTZxLl1zMjN2MgiyKHX1clW3CzKpx+Iqatzub1PE14=', 105: 'AFIT_BoAmCp5yuCRNhrW3Siy6AvRPWS4+l94wbksq2Vx8Jrc=', 106: 'AFIT_BpShI7dXX6/qqjCHNHBXX/wlz4sJI36UrCSre2awUaw=', 107: 'AFIT_BqtSfqjBkoqzFh6vHHDNG5OFdp61Eux3q8viqEHMsYY=', 108: 'AFIT_C3BwxOo2jePEb4uZdG2MafJ2lvixnwtoJLimJISXAVU=', 109: 'AFIT_CCeUm7mpv9a11k+duqLXcT7K++dg6se9n6mGCRbl3TY=', 110: 'AFIT_CG6OFw4nbaWppt2XSQiU854ZaSH+S1Y4vCTIvsYzxhA=', 111: 'AFIT_CJcD6NerWmve7k2yDtCNgbzNz2i1VhTjxxG0MEdEZ7Q=', 112: 'AFIT_CKPNfKOSoRsY8i6I4mv2NHTTZ7nMG3N4bFG6kAqgwLQ=', 113: 'AFIT_CXci+G5DHk5g9N4VP8gZpjPlxbQ55J1V5VRXauGS+QM=', 114: 'AFIT_Cf8y9sfv8A3SM3T9WFaYF/YaCDFB4CS32BhVWCeprBs=', 115: 'AFIT_Chccbhavj9vaebwJjuz5mWxLRc6l3k2LvwerQbENZBM=', 116: 'AFIT_CmV1cgjzhfuXVtoF8FGg9rqt/ZfJXNq4SfZ76Ts8fBM=', 117: 'AFIT_CpBU5YKvQoCjChQQIVhZUKmCcChN5n6Rohj5DoDHwdM=', 118: 'AFIT_CvyCqN84tnDWgDVZX8ZB8u1s9K2x5eNZ6dX3GTKXFFI=', 119: 'AFIT_D3JGFw0FQUyunvbRMx3FzRRug/1EeHYfFwBOa8z8rr0=', 120: 'AFIT_DEoX162N58nO3cUk50mtMFcymMCYel6URyShbHtv0Xo=', 121: 'AFIT_DJPv5u8uPdniwhcKQJ02+3eQStkRQV3VhnP/sbV0lrw=', 122: 'AFIT_DRtDegkvpvhLx/MABrFU0VSL+P/PHEMxIhOcYbLQ//U=', 123: 'AFIT_DTVKM1zVOI3DmjKthjDTtnZGbeO+OqWh0YZavCylPq0=', 124: 'AFIT_DgUCJT6J/jQsybBuAz6W7j5Lp+TUIWegfN/83YW/OoY=', 125: 'AFIT_DihItvQCgt1zQyuEmIUYu3nUD1oZqsz3DRFfy+JIqjA=', 126: 'AFIT_DyCzWXZGkpXEgPRWXLwR87Rt1VcCJH6k8bKoAUZrIJU=', 127: 'AFIT_Dz7v8ieyv1IIpi/jt3JhYszl55Ti/SL2cE5YiKGQ9pQ=', 128: 'AFIT_E72kKawpsZtQB1mK4PJ0bopuB2LNzIwWLkxvgdVCywM=', 129: 'AFIT_EHEoWjJ20RAZYUc6D113XFx3izW9hwEqq9ePqMByehc=', 130: 'AFIT_EHa/e8aFElWhQZJilh70lHAjEIzo/aebqxnRLfpIcO4=', 131: 'AFIT_EO8hQhcnrFVsteZW0AJWCYE8OjrvVaRBXsU1OvNuCJU=', 132: 'AFIT_EQGGuvLHna8NG5N7e6UZwdpWSiAAdtOhFVpZtIlCevI=', 133: 'AFIT_ESaczP3/IVoz6jCfQtkc/XeLe0Boqks1DdvhiR7yqHg=', 134: 'AFIT_EUGUYCD9cTnlwsVdy1T7YiQTRzTHCaySQ5GqBsavzY8=', 135: 'AFIT_EdD0nI7cM8vEkE4QJEvZ7F3srTYaKtY7yhuEXm9KGXE=', 136: 'AFIT_EiadmkPdQcSmO5aAqOUhUP2gUgppC1shS7rl03LyemE=', 137: 'AFIT_Ek0GUditZ2JaOfq1QDwz1Ge+JKra9X11xB0bHBReEAM=', 138: 'AFIT_F0FxuAnVJA3WDDZZMDgt1bN/9jrpJF+r5uqBB5xV9i4=', 139: 'AFIT_F44SENm3hXJFIRNYZb2CgWa7x6bj80HW4eFGVUrprpM=', 140: 'AFIT_F4bcwZyquMBVnWw9B/zmv2G29Zn79wHhval168B+IcM=', 141: 'AFIT_F9E3LL7Kh985saCqKBn0c3ii6tOVs16DEPz2FVqbeWY=', 142: 'AFIT_FFdwMUhViFsBXwcrMrUqyD2qSERkCxY9tEk4H/+CRJ4=', 143: 'AFIT_FIIguHN9TUe+lFWF4DVrXdMJCBTmkHb/4wmh8PuwnSM=', 144: 'AFIT_FKCtMWPFSZssfgm52D0i+zLmIC8QGW5BiauNKSvNjzs=', 145: 'AFIT_FXsstyLmlPiuxL7WakE9U+7zokq15spNJ1HvFsunNZs=', 146: 'AFIT_Fg+K1gFXby5Bvly/wxbxrBoEYZhEAr14RjXE86Anlls=', 147: 'AFIT_FmTlTmeWZg8aSlapIXXdcl/SNGgQkaJQXenynDWM3Ow=', 148: 'AFIT_GIqmJg6vCAlxaSAtqXmsiXqK86F6Sz1H8fu3XDWRaj0=', 149: 'AFIT_Gc4Qj8eNEv/G0stuxWl7zVWi/wjzUSWmVclik3hHoFs=', 150: 'AFIT_GgUezjw8lhmTMS+i6JdvyhuY5wOeI2j4fQxLvw9ypPU=', 151: 'AFIT_H2JsgXms+oPIWQgSoI1iQeUwUhZWadq/JdtU+JWc9b8=', 152: 'AFIT_HHhLIS45hnV7syR0NjH4nmCzlx3kbBXe3G8wxaxxloA=', 153: 'AFIT_IGW73jL9NdsS5a3hWJU1af5d7h086oQppsaaK9LV/wI=', 154: 'AFIT_IWxvcKRgG5oke74bN1IMgR7r8zKIB4oZUTHhWEE+F9A=', 155: 'AFIT_IYwXs4XfuxaKebVYqe1Yt4wzckYs0fYr4CEIXnZnVgc=', 156: 'AFIT_IhSP8N4DzNtki05jR/GgyC9kubmeKYURK4/qACvQGjc=', 157: 'AFIT_IuiYcBnRLogEnGyeTDXt6H7PkXx2WQBMFdUeWh5ZPNU=', 158: 'AFIT_J50dUW7V3Qc59Y7yePp8YL4eaZDAfzD3T1kyOTS6/ss=', 159: 'AFIT_J9sZImTUZEZ3CMWFRtMAee/vaPcPFQ5IxiivvWEVmBw=', 160: 'AFIT_JA0l26XIQigY6hfjANZCEGtyjL/8FvtBCEV7CqcEZbE=', 161: 'AFIT_JDGd8VhO8cI7Aw7m3/t/xDBpu9j5e8e0K1Amx2F/7uo=', 162: 'AFIT_JHqEpd+TL5xVSiBGzTM5ihJ2bZgLzvDJrSibaqVX70I=', 163: 'AFIT_JR3M6kAbcTiig9H4W+5Jg8EUSRjCx3VejYz+2Kjn1RQ=', 164: 'AFIT_JTWw7cdWhuzGPUvH6ja1zRVYDLrcQaZ/I8FQAUv3rgE=', 165: 'AFIT_JUwSaRpbi/y8QypYeWoCX8hYqrxVWk7HBxcs5wApqfI=', 166: 'AFIT_JhMPPwP3Y/kW3sUKQohRdW/gbLdvrf5eZp3RjSJStSY=', 167: 'AFIT_Jk5HypeKkse7CqWk7ZtH9o7aX8jeUJ4EV4wqSru1TeQ=', 168: 'AFIT_JkVDbwXPlYtZSp7IX0GMvVcIjwhh7tggt6GJyoQz+8k=', 169: 'AFIT_Jo1akekRqU9QhiICgagP34vEONvdC9J0FFkUfHJUOgA=', 170: 'AFIT_JqSth5gKEJoG+MV5hunPheFegwSEVjlQlLYlqytlMn4=', 171: 'AFIT_Ju8AQESnTOgB7/zhdpclckEQajsm+M4xg76hHxuaAOc=', 172: 'AFIT_JuusRsB5Vnf4EhOA3cF3VO8KF0bqqD8pdFJ3n9G4hFk=', 173: 'AFIT_KIkfjo1Ha5CkQqvJGztrbQTFBymZhjWtNMPNgRVdlPo=', 174: 'AFIT_KJcfvEjncxda+wpDvMIEUa6LTPG5BQrQ0EuNKDfuGtM=', 175: 'AFIT_KZT15rUnN/tc3Ao55Kalteabs1NirmZ+E1n5WzWHwJw=', 176: 'AFIT_KlnLiDUSXDfqTx/XPwFBhA2bJKbcpqA8XtvFm5TbIzQ=', 177: 'AFIT_KqtxfqdcmuOif31IJRmXnK8H0wTs6WXOBpgVthrYbyE=', 178: 'AFIT_Krk95hgcNFKy39qkI7LYqN5SXlsLxmH8WDb7ZaU6VW4=', 179: 'AFIT_L7OwYHVylPk0rWLELj8BUNuXe+30xvQDEklonVwSqVs=', 180: 'AFIT_L887zt71Np/ETLfIYFaPBTlc4J+uxIqpAtUC1Yp8epA=', 181: 'AFIT_LPAh/u3aYGy0b9PuIxsCavKzKSpHd72LuJ36UohOXjQ=', 182: 'AFIT_LX8qWQJDMrthjA9QfFRhHaM1rYiSQvRpkfW8zoQsrDY=', 183: 'AFIT_LplJtBF+kYKpc//R6E3JUj0+EnK0CWmSEbksSn7fYiE=', 184: 'AFIT_Lyum+hkCLWwYifFhG4DdI4cJMs2frF0k3WgohLvr7wE=', 185: 'AFIT_M2aIl01y1LN5wEU7clzRKZKK4DFnEXsn+B9A48KhbNA=', 186: 'AFIT_M3ZiHcdgYyWSS9HVpCezKzgk6C6rwCA4T18LNTcUgcc=', 187: 'AFIT_MG/zNOck4gS/YZUc+C3lRpKpV2pmXKJV6iVenpDAh64=', 188: 'AFIT_MMEzNDZ8B6rUkYKPAWbsMZpivOl524KHf6YYW4E/Fds=', 189: 'AFIT_MNhTLdfHiqztF5fHn8pRdsr1h9wU43XeH62AYvNkfVo=', 190: 'AFIT_Ml3A9EcjVCSQrOgzD2Z6yF1sIXnMImiFPBRmn86SWKs=', 191: 'AFIT_N2aMjmxK2MfynxHdtK2yCur8LltmJ8gUXjEQLjXsCyE=', 192: 'AFIT_NCnjhj7TJPw9t8QVRAo0TCu1r1kRAt4b2+zgwKouSl8=', 193: 'AFIT_NSbZsKq5O40ob9fbRIm1B608rRqXiZKfyjAnqkQH5CU=', 194: 'AFIT_NVMqpInhbPaMaLDy0OuA03rgcJVUWAk6b+RCINxh7yg=', 195: 'AFIT_NXqUg2VUVfPS4PyahaxQwoR5OfwSr+dy8IcMTM3Al5M=', 196: 'AFIT_NrmSV9bhojMw5m7x8toYSWry0+hTLfDAVIaax/GOudY=', 197: 'AFIT_O+c0Yd3AXDDyvTEP8JgtVHvFby0KnMyXA1vwlDSlkbo=', 198: 'AFIT_OwMGwNHm7i5ca1/GxM+w6PTa56KPvOeExwc5FmAeEj8=', 199: 'AFIT_Oz2GwQP4LL2HUyvVokbgUllyDcBfSNSNJIvIRsQLvuQ=', 200: 'AFIT_P15iarpXkgNsGqqWNkkzP0s7hlyXD+UUD9hXqenoVHE=', 201: 'AFIT_P3YA76kl8jqrHlCd8fCpKoUVsf7CQd7de5fbDuoKLF0=', 202: 'AFIT_P4Q6gkDsbhCGxUwmtixk2Irkp/Ha53MOsICngBGPlcw=', 203: 'AFIT_PHFxbytvKYRmiCQNubzjCjS0N4ZqXty1i/TSaXerMho=', 204: 'AFIT_Pg8jSNeBWrEBhiHjqrjD05LrWM79uavQltj9sfdCy2o=', 205: 'AFIT_Pu/4PY0TClHHKtWXxz2Vr/D0A+Ic1iPxJlhu73iBW9g=', 206: 'AFIT_Q0sFA1FTEFzyka2c6hsM+f8aBLOBGR6irT6AVTrpK1k=', 207: 'AFIT_QIWeUdiZHMUxoEdVhjz6A+E9lsV5NGaBbj/VJmRlA6s=', 208: 'AFIT_QU9mLQ6JI3oaI9hl15kAh/NQxuZFRBk3q7k8qSl3OgU=', 209: 'AFIT_QZMyY3+JU988LLqzk/WmtH4i5e+A1dOfSB+WDF6nY/s=', 210: 'AFIT_Qaz1aUP18P3IMNhsp4cMo9ii3/4++uiBn5Ors7Z/9i4=', 211: 'AFIT_QcZC8Bs9JhGd2Hxvnefcptj2MYom6IfjzpijfEEX3Ws=', 212: 'AFIT_QivWYRMOg6Fvo/1YOqVv3GRgq/Ur8rrlwPmvb3h1Bzw=', 213: 'AFIT_Ql6coDToRk8PgJcnZz3NnCMGWoH5jxp4sTIV/QyiiJE=', 214: 'AFIT_QlaHAwMc0cuNHS8kRcbCWFl4aLBHVgbQcSOi0yG3HYg=', 215: 'AFIT_QqniC91yWYNhsyTkQX/mxYzgOvgzauUQJyv9906NUsg=', 216: 'AFIT_RCpCs9BW1/4J4mx7MYOG9C7uSqKXtVqevqCfSsa3B/U=', 217: 'AFIT_RKqZgf07CRP+VrWQ6G3cNZoVlbq3QXotjSwIK+V8fpM=', 218: 'AFIT_RLcE1idpTwku1WJDaj2xuDNdlCsdwKiEEZ9vY2rvYf4=', 219: 'AFIT_RNEBnZUdElKkkbr6MRWTwLn04lM4nUTcgNiGCVzKSdA=', 220: 'AFIT_RYNtoZ+zwq3z7xACcuZRyq99kAEd0F14HImWrBwxXto=', 221: 'AFIT_Rf4ZolV5G536lJ+7d+BIPWqTADW8st9XkzAb3HcDZ88=', 222: 'AFIT_RfASSlbJczp5BVRbecJxWJqZroFeIcHKTBpm+YmMWtc=', 223: 'AFIT_Rh5isWKSgCiSlwppdiQmNM1DCkTq2PrNQsLZ8hjv/c0=', 224: 'AFIT_Rpk720zxBgVqfcGd+/JM58ZczwozQTu9qdOx6H8QtqU=', 225: 'AFIT_RrNzgF26G91AljdUfkJMWK5TAAPLPR75ifH48cCBikw=', 226: 'AFIT_SNYBPS4ZmNCZmgZz345rsds+zomfAV0yk5Hq3lSuSwE=', 227: 'AFIT_Sa7gUcX1lGGOXBIJb0IktjX1p4s2lxMj4+8YzoCQqxI=', 228: 'AFIT_SblG9suwqQ1NwLVEsjgunLBJ3SfuOKCBGbfGp9aJKr4=', 229: 'AFIT_SobRqgBRE56saujuzusnJnqSWKpVnFZg2xsIhZXTAqs=', 230: 'AFIT_T0hDrTE/II/mj996XFtrdfbVzByQyb0Wgw6lyES4IQk=', 231: 'AFIT_TAT8YmjwhmsEytqmAmbftRl0645WB3oZA98lMVgm3gc=', 232: 'AFIT_THjrlXYWPd39S0PGsQCkX0TGSn4EBmDafLFna3OEqfM=', 233: 'AFIT_TJHH+woDYsxPCE8bU/oNYx3dp0j5vyRKGrNjDHw3YIg=', 234: 'AFIT_TUSPQNkm/8tvoRiLkKfWNdZt9avIcX7AGMDJQ6U04bE=', 235: 'AFIT_TXlRHIC0bSBnpO/dSZTmiNR3nTS9V9BJioUqRPAQjS8=', 236: 'AFIT_TrIbBwFAUvP8+E0KIvLARx2n1S8PjAm/g71u7PXxXJA=', 237: 'AFIT_TuA2G4GjZgx7Ni1FmV2/SwgqxZH8Dxfw3eC6pN+dCTw=', 238: 'AFIT_TujxgXgWrKMewxvzlwpwf5QaQSQTGahCHCgq1pAfwJ8=', 239: 'AFIT_U94mIL+pjgY/xXWrzuBOaGN22LZLg3VGVBQ4jXpbS3U=', 240: 'AFIT_UB/+/4VCn9ooDi68CzszNGuGdBJiBqUQraB1EKcDYJs=', 241: 'AFIT_UFo7YbNLxp900X68ysk/Lb4HGkw5SEhb2WoYZGDO3Y8=', 242: 'AFIT_URWHs/n/T+WSn08H/ORIcMG9UEa/BBd+4DR58Hjf390=', 243: 'AFIT_USm66/9uHEixfkxd3Tse/A/hWdrRIPxZ/smFlkMKnII=', 244: 'AFIT_UWdGlNU9P1tLM/u58oD1Fy5ybUpTrR4CNpzl1TpKETw=', 245: 'AFIT_UZvdKoFsa2hBX0d3yp8YQAB9J5G7F6w0iPX+E6451As=', 246: 'AFIT_Un6WylEaskzFVeXhs/Hq7qnRI+7Hl23RWaNPxmUa4Pk=', 247: 'AFIT_Uon/hvIPEEQTscvURwvo/igku094PQTSZqtr9q2Tcyc=', 248: 'AFIT_UrqxryQPs2LyuQGSjMj9g8XFjpyDrIg6rXE/pFnC/zA=', 249: 'AFIT_UsgoEVGrGVuYXesxdUdj454vCC2tALcmPwMn2ePmZwg=', 250: 'AFIT_UumdoCGilHtHDvLLmH1jaEhSosOTaUGKQrcX0NHrub8=', 251: 'AFIT_UvaSRWCTAjlCAwbMhVSmqJVeshdosF0Z6x1Fq9sXsC4=', 252: 'AFIT_V/sH8su2/+hPlCzkDCXG17uGFaIX92YXz5ixGLEzPEo=', 253: 'AFIT_V2OkKAfqJM1MlrCTMCI/P28kxShTS9c+1uUAubTTERY=', 254: 'AFIT_V7bV1+G6vhtOVGPaBFM1iokcylzSEJQnmuaghmsBy7A=', 255: 'AFIT_V8Fjib+Caby3Tde/X21VHRPpCWeLVjXSE5EHbRcRnKA=', 256: 'AFIT_V8i5REKs/sr3QqdEvFqHuk0uM7dX3YugcOOVV0iiKYg=', 257: 'AFIT_VTPlUmANlAg/Uabb4+1ZvMBk7xbOLWHLGwEiXjE/GdI=', 258: 'AFIT_VhilDrf27ARJphi79zxM54wbSxvUxh+0IwiH0GDC3Vw=', 259: 'AFIT_Vt9zjbrY/+YLDYw+mkVj4vzZYJYcdts4ixwvIxLwToE=', 260: 'AFIT_Vzk1CNlByS9DI9v+P2GjtoFXwu4gz7LOGDgq843d2Y8=', 261: 'AFIT_W5qy0NAWZ2j96403/P6D9KJ/rdiAREdfoQRG19sTK38=', 262: 'AFIT_W9pxj/IgNfLwv2O4J4LkJTMLvwtQ6hx4Lm4pEv5RoF0=', 263: 'AFIT_WBHLbbnSBTFnxBc4jqRllGmIj6MSiPr8ilK534yLrIQ=', 264: 'AFIT_WHvFMJUWJFKq0HBD9GJkpUtn/XdE+hdiZxz3CBm7QCc=', 265: 'AFIT_WKRfUgi5+d3eNAFkj73KoG4K5EsFm/4YLEa9+i1UIlo=', 266: 'AFIT_WP4h5DjPwvW9aXJPOtEFJX0yII8XsNbVn8X6ahpXWuA=', 267: 'AFIT_WPXFffQDK8TyVmQXm48qmQN0YAJSVq3p5k+lCqV9f+E=', 268: 'AFIT_WSz+cqp76jqjmiUUJX4ERXWcjzjHriSdI3FYo1yutkM=', 269: 'AFIT_WblNyRoMEJH0UwKM9nhg05l2s/F+p5QLKh03jHfGKEQ=', 270: 'AFIT_WcO1Uci2aTlUgcnBP6wn3RM4G1TBElV4N90GOTp82A8=', 271: 'AFIT_WmPQse24dJhTgGRi1ZIoo6KPbw9yGELY6hzg8p4YQRU=', 272: 'AFIT_Wsw9nmHuWr+DwaHL4D1CISG9oVgXDVy1Ydmhb5ZfT3k=', 273: 'AFIT_WzA4Xo5tO9h0fOzl4DgtztWWH1Kt+NVyV/LotMGErvk=', 274: 'AFIT_X/W2iYpdiGP28UqgEQrmy1M0sfitlvzrHR53R3JSO0g=', 275: 'AFIT_XGd8Z+7o+2aLBVyuf+B2j8vFZqtBKYjkl1ETwPXXDSw=', 276: 'AFIT_XGfsXjAEmuOokSaJtdU8cb9IxtGHTZcMp6b04JLwgtM=', 277: 'AFIT_XWJ+YW6M4tJZUregvw4rxqb26+kIS1CmbDIT+TGd6RM=', 278: 'AFIT_Xu73LceEGxPUl0ymTLkTr10Odq8onQg0eAUV/Y1JyPg=', 279: 'AFIT_XvXs7UnJuXvXZEG4QR107c4o2TY/uCl7LsD1Y2iJuAY=', 280: 'AFIT_YRF//w+MwbqTDxBQPWLYmj1K5If0kewY8RR4gz47Ojg=', 281: 'AFIT_Ybu6HPIx1ZTlQ96CeRNFybLfcI3XNy+sEFGOYqlqT5g=', 282: 'AFIT_YhuIm6tyAnZGsnEY/GZ3C+tKWyqsU5bZtal8rLV7HSM=', 283: 'AFIT_YmtZ04fJcMRBbEnQAQGdE0isf4BC8QW0IBJHKHabLbo=', 284: 'AFIT_YtI1GCTKZAR0g3QbijJScbUavLucqQ1OM8tOMtq1IDQ=', 285: 'AFIT_YvWjL1iQGR63+VO154Gt42SHNoustGrZIZHohslGlNM=', 286: 'AFIT_Yx+RQGsH7YMtpI4/iSdkM+22u3entFHiK9ktsLD8sPE=', 287: 'AFIT_YxR+lDoFqAeIl8IoXE8hmy//ZWax6q97gGGrnE3qbro=', 288: 'AFIT_Z5c5HE8EXWfbyJ284dMz5NejLp8cvX5qnjP6wosR5pw=', 289: 'AFIT_ZAdOdSmHXm4GxZl+2iqVT/4eDofZ6mk0bYRmDb3/neQ=', 290: 'AFIT_ZEZyjGJj2ExwcFlXMv1OzJpFMcPq6jNeVeMz2NybUVo=', 291: 'AFIT_ZHyTmCXZRQ42U6BVkvis0z/tEyS9k+/ItJUe3zI9Nkw=', 292: 'AFIT_ZIMPHHE2HW502tL9PgtqAaWbbItl1FoR4PwQw7FxxE4=', 293: 'AFIT_Zs+jngPqMlWp0H6YtgotJ+gzOsahnqg3asyBhxdfO6s=', 294: 'AFIT_aF28+4HPSE66ileUZ6JorC+l51WH0B9M5dDTTpGknFc=', 295: 'AFIT_aqQQEQ/WfW0Kkl+dXbVxKR9mRSHhe9giGx/YCQxvpFY=', 296: 'AFIT_b/1RBCsCH07Ki1264rEJo9OjGe57fq9DknSYq0c7TkM=', 297: 'AFIT_b1kvVJPFFvRhzfa+YwMUvVrjtbIMTuvVJ2l+ld7eCoY=', 298: 'AFIT_b2WcfCPY3pzWd/VKKxlyNiOZ65JKTmpwGyLd+NSrZqY=', 299: 'AFIT_b8u/Egf0EfCXw8IEliyjqYW3CfUNrHl6Jj3RD+4YyG0=', 300: 'AFIT_bGeEDzIYvENzmbi/mrxSRXMEOd4dMtZBW5jXU5atu8U=', 301: 'AFIT_bcvRTlzeNl3Ov1enJ2P73YHQK61lP8caLYM7FzHdknQ=', 302: 'AFIT_cEAZVp9DG/0jaDbThzPwl0cgAX3wMbnuRm9i229deIs=', 303: 'AFIT_cMXDgr2aKO2s1zeuIO4KpWuaetkCug+AkxzER7hkTro=', 304: 'AFIT_cRZuOW2Z0nGzSdFYdX6eE7/0YlT84u5LfT2rjc7e/lY=', 305: 'AFIT_ccv/U2VF4xODItfAtCTq7hZyAEdNUoMEi1zqX3T11Yo=', 306: 'AFIT_cdE/FX9nkbVSRcSSisnLvQZsXbL7E8XAnw3C0Kgxc9o=', 307: 'AFIT_cjvzkq6xbGCzAXqyjryVAbebm0bqAiaNi1ltve4GsDQ=', 308: 'AFIT_d41o99zj1DdaIkuPR2Tz+ZTfmISq51wMTD4Iu8A0ANY=', 309: 'AFIT_d8OaC0H8ZoWWpOf6gUiEu0pd8cJiJ5+AcMncYDPOCJY=', 310: 'AFIT_dM4GEnTbPNMZMtHvRaamUPzLiQZdiQKhhSxzzq4+5jA=', 311: 'AFIT_dSMRDLDF1CZb9GPYC1UiP7BIHyBWP8wsVd3siMeI1XA=', 312: 'AFIT_do4XlbSFxhonYvPlXZlyALnYeBpemL/+iLeX3WiUc8U=', 313: 'AFIT_drG8wvTOxZA0k1pOnka/AQwkv2DqPXri94bEjZWQn9o=', 314: 'AFIT_dtZGZ/LHfOi7rclDg+UHUwAznBl6B9JE1dLWjjJ5REo=', 315: 'AFIT_eDMGlyTJy+FZQM8bq8VBz9eYJGTiWIGHJYRTSy/tzDc=', 316: 'AFIT_eSChmEcvXBSL2SDPo4fNy3eHV8jBmT9f3HKh91d7FNg=', 317: 'AFIT_eTMaWjjODLHL5mc4H1w6Gq7rwr/AT3aJkGOCgsx1+nQ=', 318: 'AFIT_eV2MflnXXzSiegPqFCfl92LMW1vj7+m3hhFcM7I29Lc=', 319: 'AFIT_eaWHxa1/CHbT8AXVdVo6T66EHN/t7ccb2O1jNpATx0E=', 320: 'AFIT_eo4YI18w7tI/xxl8Jm0E73qcLxSuAo956rtMLX6uE1M=', 321: 'AFIT_fDGX/Xnb601yiwAhIWDrmWPaZWDNUPfJ2Rs5wupyH7E=', 322: 'AFIT_fEH768gxOwRx9+cCQaJ7kZyVMIvfkfHqCFBAX0lC5mE=', 323: 'AFIT_fG8gIozTOYUfKQAIpho8/brMbdFvBdsjfmR4BWifFjA=', 324: 'AFIT_fQwcfCUg9IC8A0zV1YqC9hkjzVJQRZQJfOzIKuy29O8=', 325: 'AFIT_fVuvvP1HVVyGE/7B7OC7uv8OSD2Au55LvR46IbExOg0=', 326: 'AFIT_fkGLaUCJDDg4WdMvVlcxvAJrTVtykGmkrP99we97EcE=', 327: 'AFIT_fkVUe72jP1DIl8PPrWJMzcaYQhuRwomwCsPGP1RWzJ4=', 328: 'AFIT_frDSxTNK5yqzrEhVh5+T6+hA6OK+y5pgJOsDfOpUNTY=', 329: 'AFIT_fuqQJOWE77VdWZGh+M2Z6Ee9Rsu6wFzsBqPUBmtH+S0=', 330: 'AFIT_fzeGJIQZKg8ysEBKNeI0klFv3nKxsyYHAY6l+OUnBpg=', 331: 'AFIT_g2WNBeVVPvl6ygYIf9bHNcAdPvEnwZPAEdTrHd2WEQA=', 332: 'AFIT_g6VJJZR2PeuYhtkHgDiE6O+x0KdgYKbdmR+0XoVoDd0=', 333: 'AFIT_gAlbECuR8HaJOPLLdOkurRhS56FYwb3vhbZc+rcPxWI=', 334: 'AFIT_gJu3IvVc2xgkgUhQrzexuSx4Eg+qdu9B68iddrb+M48=', 335: 'AFIT_gTk1BdICX5VPWSIr/A4RFHHGjQlz+nneDtD7DGgqQ6s=', 336: 'AFIT_gUmWHPNwbQO7eVgPrj0W4VSFZ/3MZyaBlNQIIHP2aBk=', 337: 'AFIT_gZAd93Polb1wOrdiZecwNxkUU6m5/rG7+ib/3XTbg8A=', 338: 'AFIT_glYlxgT+9uN1TLeCu2fDzv4dOQpiJMg8zm1OLQEvdUY=', 339: 'AFIT_gzTjAMhkNdzwl0+6ykNlRsyb00xBxFKeaHmvqOH2lHM=', 340: 'AFIT_h81wr4CUhHbnEt02izwHYeoWU/8YiFL9z5ZZOc5Jjpk=', 341: 'AFIT_hF+w3acnPg2mzamXHL8ZkbKwHvLY4OuLD1xU3e6yUiU=', 342: 'AFIT_hFnVtYO9b8m43gIZv2cp7TWXGlYaey/1lV0Sdc8Arz8=', 343: 'AFIT_hIOyVEHTmZOSV878Fj+lStVp37Tqk6DizDjSmjwyN8M=', 344: 'AFIT_hX5iuFOh2XNF15jz6U7sqNRs1oGdGU3sczAiOLq8mQo=', 345: 'AFIT_iPIiYvnuvagyIRWfwGigLJq0CsHODhlDaLW821GWBMQ=', 346: 'AFIT_ij++N3I3k6zqH+iEvYe4dbcg1EKaMPnNFyzHUaXM5wI=', 347: 'AFIT_ik3i2d4evzWAc10ke+iDxeRwv3zViLuTvbxMm0HpCqo=', 348: 'AFIT_im8hDLzB8riYW1faBL9ar9YdJBtGwDoxoqZRSOD+1dk=', 349: 'AFIT_ioxc55cwy8UiiBo9+LIN82QqXpM6WOGfuwGhkbaSk0M=', 350: 'AFIT_ityv15xgI1ShBC8UTdAsL/4xSBmvOogbBUQdLCHivrA=', 351: 'AFIT_j0uwt/VJnrfjUFX9MMIOX9pPxLKIFxSimgUuNSzoUtc=', 352: 'AFIT_j2dC8ORe/UWMqgf/sYOi5AVzHp1Df1gPBmPQKaDy6hY=', 353: 'AFIT_jBx+OWAanol4XmecG1R9hqLDVIrfHDllnS9vwBnejy0=', 354: 'AFIT_jGnkHH8mPoPis9NISEG0lnRJjWM644xiG3JY4IWeKgQ=', 355: 'AFIT_jNos9Ffia1hbJvPUnfksa3CFdQR/FUICLjKwijU67Z8=', 356: 'AFIT_jPeqaf+RlPEou4R988+8p4Yzw8ZWZU7uW1V68SR6JDE=', 357: 'AFIT_jrZbVDn8RlHocn7u9jt38qjiubziujyzzA93/DKgm+s=', 358: 'AFIT_k58HteP5BrjXHxvFII8XrI1H3OGw2enHtZKJeIlPSV4=', 359: 'AFIT_kFZWRFYTGQt+uD2snnL3m6jjtJrTAM3fwB8PvzG1c9A=', 360: 'AFIT_kQLx46++wvorgwWbup02qndwHh+x2wKzsiCGLNSYEwM=', 361: 'AFIT_kV+CGctOTul7nRnJOCJDSeX5AwJCKEY461TKFgU3Z2I=', 362: 'AFIT_kZo029QxQ/wdZrLs1Gqvce2e97DUk/hiCOLnut57bZw=', 363: 'AFIT_kmKkTGvUykJepVvnmsEt697K2gp/viF6sLDhMc9u8aw=', 364: 'AFIT_lHvnGuYl5SkpW9KDJRP2MYSATWPTGUrHxJRZjEqFkHY=', 365: 'AFIT_lJfawRdDzP3TuZWAh6uf5cZRVEzCEQxB/xYogTxoPGs=', 366: 'AFIT_lNPF+yYwfcMkCAZ1nwgC+jc1zbO/fH6fuEXc/e+9eM8=', 367: 'AFIT_lOFwPU5Xari6jQVmGoV4ZjRbsR180r+xa7wiJ+3+uNw=', 368: 'AFIT_lQ2/QQbttb//Cq6sX7nU/Le1xQlQIGq+CCsaGzeVsus=', 369: 'AFIT_lbGzbNNBRei9VKpqeHPRA5+xM9bV265xPQ4p7PiH9u8=', 370: 'AFIT_lg8rgimIcE9e46NhD6VmMwKjmn944U3FBAUZOr3KE8g=', 371: 'AFIT_lhAU21X4+C92XQhwRGvugW+b61kJC/L1KjEgfRld0pE=', 372: 'AFIT_lkBobqSxdCgnT4/3TcNBfGrGfK9bl5lRreG35ZhSqy4=', 373: 'AFIT_mOCGi/SRz6QS5xsYr9iEwoEgHlqoWasGq8qpn18txfk=', 374: 'AFIT_mXTLdHkd4pkXMumas3mzo5Y5pf4b5K9UMGa0aENvooc=', 375: 'AFIT_miOaT/3KS5U21xkKooUwjngD2sK2hWE3NIofOSjQTnk=', 376: 'AFIT_miZZWxyNVvN5qsSjGFXdToTA9VSxm+ATFAMtfWM2jQA=', 377: 'AFIT_mzmmnMHEfKOUtMB7/8JeJVqHuqmel5GXFVnfEYz1SXU=', 378: 'AFIT_nCyC1dCGP7bjYpvb8QcIjkaGQIGi5TzB9wEvn79YhFE=', 379: 'AFIT_nJI/TKC2UEa7U6uTc3HpVIS8aficySR509gjo0/ae0E=', 380: 'AFIT_nVfST5JA3AHSIF8LieFWttMquKjc20twmr/0etM9K0I=', 381: 'AFIT_ngXWcM24ttoDq+uOqAi9wCPJV4E8N5pUHB3ThIYMzsI=', 382: 'AFIT_niPbqFuPm4EFtQIs2qZ8K+CNzkDwkPceV3Ikq6vHzKE=', 383: 'AFIT_o30J/UPkNkb9ihfLDTmCA3SGVUqbPjtG5e7JNdaMFDU=', 384: 'AFIT_oFS1XMCYgopTTmR3q0qxZlRHHNKFzEaNOO6O3a0mKG4=', 385: 'AFIT_oiCQt/OvI6Ui2AkSR42OzB9XUh8nixGEKEDPrjLa1fE=', 386: 'AFIT_osFJtyAxnItKVNvCG16YCarLtJ/1cTl5tEHDhYh6lNA=', 387: 'AFIT_pFp4KPobrpBY5/K3NkSgFNjoPTo935tI7qHqNe3WYUQ=', 388: 'AFIT_pLioF3LwXF7fBQI/VSiCgvU1nynYB4RzKdbICulsW1Q=', 389: 'AFIT_pY1ydgVl3V9A5EEYpNOaCJAITcs8elNQKjDRfIP7BDs=', 390: 'AFIT_q3l7y8jlQpiRqWvXWdyBeNvc6vZf+yphkhZy0t2kOSg=', 391: 'AFIT_qBq7LGnABZUfpE6nxuvX+ja2Ah1Z2vCdeTMBBs8uRX0=', 392: 'AFIT_qFmXKxEME0vpET3ARlqsqawMPOfpjE71MDzv4OcqXrI=', 393: 'AFIT_qQd04SGJOkW4EDxp72co8gaE6ZU2BCFR9tM+8eJYDNU=', 394: 'AFIT_qnxl4IhqluW9VWtXj8Q3wDZR/1AuDxnNEOx0nazgeUY=', 395: 'AFIT_qv0b4ZlED8wRkdMS03ZEQHVp1nxQuejawuj4vUjj2es=', 396: 'AFIT_rKyj6qLyfyWtywfZ5MQZx4tsyy6ukWxMCO2ssjII/x8=', 397: 'AFIT_rLY6OctVKomdubnF8jakv6sWQk4K8STWuUyCCA1BWQc=', 398: 'AFIT_rOdKhfAHspkBh011jYKiWpX612BcqgicvLoXqPUT6p0=', 399: 'AFIT_rW7UgCvYrnEBzUIsCEOd8BLrl3NzOSwUpEIMJ1o3eGc=', 400: 'AFIT_rdw4X9VwDjoPkktmagP7WHlUD0aGQp6ukLeQiNOyGBw=', 401: 'AFIT_rhUHKAXm4JJK963jOJRJrHT9nkpgcIVoH13Soz58FQE=', 402: 'AFIT_roQWmSiOoFhr3z1jPbQCpOH381LYwwFfHflnzwaVb6o=', 403: 'AFIT_rr3p5ud2jrgr0f6lZkwW21lzsiO08NenZh7VfQ4dDo8=', 404: 'AFIT_rx6cmqE5W77V5D/TPqGD0NpqY8UFam6bjeFsTSM3qrU=', 405: 'AFIT_sDbQETLAf31OdDUAgnO7Xm86wKamk1yfCZnRRhiXny0=', 406: 'AFIT_sOQkNwl/Uo1b6s04QVPXRp3wHiRXjQBfTckhHLFWbsU=', 407: 'AFIT_sQZIt3YjzHT0A+rZrRJDxJz+puwEcsbcc6F/Om3f4ks=', 408: 'AFIT_sglLj7R6snMu0WEryY7LEM0dSvIINUWpHkB42Wd8bA8=', 409: 'AFIT_shHDk/QoSooXZ+M0iGQPSEuZDzyL5xvJIW/GSy+yb9A=', 410: 'AFIT_sm0zWOfl3NiUzAvCXNTdMa1LBa2ux+JJdI2taczuP9E=', 411: 'AFIT_sq6OMas7cbCRRkL9jK6OhXf2qalVs18KaZ9fdQxsll4=', 412: 'AFIT_tLe7KQYSjirLsMdFe5JXTRNDBrNOEL1IJVq4XsnyrJ8=', 413: 'AFIT_tYXs0wIqhCex5fKRIhFRIaf1L3vVVvxbuqQ8v0R43fc=', 414: 'AFIT_tqSSBIMfYHH5n7ZtJ1aeaC2QjvI/iyKyBkb2+RfImDk=', 415: 'AFIT_tqWm8zY47cgMKQBsWHSSFui1G9lTY60DDgtiof1mVh8=', 416: 'AFIT_tt12KDaNCWKyUTzoi0grADq95onKmdvcdrS56i2n7+o=', 417: 'AFIT_u+rzTEruS2nK0+GVomDQm30dS9a0JuLWeUOno/G864s=', 418: 'AFIT_u9ifwPyjwpNUXvbQytGGJbdgofPxISzYHs+mMQh0oCE=', 419: 'AFIT_uCms+bz5qz69Q1S1XYmVC+vbH1PHspYPRcJW8ibl19Q=', 420: 'AFIT_uGH5MCnz8Q2Eq7CIWYF8P3bDWlDrwdrf8sRzwB4zzAc=', 421: 'AFIT_uJDERgHQcRIuoPYXIxVgH/6tX5SvfB9pznqo8VMtRR0=', 422: 'AFIT_uOTLXvLAOTybbMbkIfS0qpr1WtnIRw0Vt5ciYfH9kb8=', 423: 'AFIT_uQXKTM9RZ2aON5CVJ7tj25UktRxZ7FtxxqQ6IdLvTuc=', 424: 'AFIT_uWLq9zLjbGbuLn4xm5RP4vp7l0zoeHJ23P74b2Ws94Y=', 425: 'AFIT_uhZqrmTdHoo9mGMiwfBGB2egEP/eNjBpQGjT1rcKGQY=', 426: 'AFIT_v8UKSQwohcUuHqCRgtfTA3i+afhHAlBtlYsxKQX/i8I=', 427: 'AFIT_vJ81PVdfSmoBEN44qtnn/0+G+GlzYtAa0FuzhF+jBj4=', 428: 'AFIT_vM9yeSVrB90H+uS5PjGwpvL2pmBy+dj+QphAFzTVpJo=', 429: 'AFIT_vMP8e9UVbee7H/T9yRIfEV+6P5UJrnACMVRwHVaMlac=', 430: 'AFIT_vvks5qWoiUPZNXC4ZjhzpMuAvczdfUa3EE/v0ZTTo9Y=', 431: 'AFIT_w4EcaafdDrVeA5TGIY30bcmAwmebVH3xIF8an/ErK+o=', 432: 'AFIT_w4rSnRJzRLXJTpwZ29avdGJYy03ZyiNR081gBxM0+bE=', 433: 'AFIT_wKghdZzCnhjiC45DT5Rq8AByBe/Pn6lHNgwyUM04n4g=', 434: 'AFIT_wNQ52JiyhLf/xlPaucty6lkQvKe2z+0dz293CuiBvSw=', 435: 'AFIT_wg9tKOORBAg+vdmcRtl6uI9fbo2femzpcBsjbtJftIo=', 436: 'AFIT_x/At55SmJ9bWRpGNUjc4XlDGdVgBuufOpqyJNNljYds=', 437: 'AFIT_x5KAnC42N3i37dQBiQfVE/vyc2Kk2qiPGuqKExlhW7U=', 438: 'AFIT_x6peBcm33zWh6AUB9DWn6okaCRSZzmGJPLWXzlgeBkk=', 439: 'AFIT_xYiWrhNGmcvhA4v7bMuudKRo0sAagsjUY6WTVsCqnHU=', 440: 'AFIT_xbb+9Y1jPpO/d2uV9KnBrzGQKNc5dfWYBoG306cHFB8=', 441: 'AFIT_xrCYkPOD2TiTnseJ0HntEtAq4KFQ10Zzi8/1Dh4TQbA=', 442: 'AFIT_xxntYLNmquOpdi+daIVGp06g00aliUX9c47zVVUoHFc=', 443: 'AFIT_y+K0bgZi3Qpi/iioXPAoAk9zm0Snup5Zjorlwcgttkg=', 444: 'AFIT_yJ+4PTsn5NClfx4kHjsBjg9efwr5idRWbT3kyNwRLt0=', 445: 'AFIT_yNDobpo+Z1usqkR5G5tPFq46tr43tMWpREQU4vaqbrM=', 446: 'AFIT_yj6opM9q9AQ1h1V7utMYvCAsfESBHX7fdWxHTKs0Tk0=', 447: 'AFIT_ynLqBjXz23qUpPfWTjdcxARGXSI5pEjKXEU7i32kokM=', 448: 'AFIT_ypOtChkl/MtEtu7yfN6mMr7pYLyS/SJ0DHXhr0BWlVE=', 449: 'AFIT_yyJ7ecwlSfz5mvx9sg2alDsNYPUWr9zjjJ+JCBDrxa0=', 450: 'AFIT_z8dHoTJgMMaOc85rzSQyFUiBVWw5dZ4z4dIux9dlQIs=', 451: 'AFIT_zAOgrR8o9+CbuyoNubBCYZIQcqHEMQ01cr5niXNFHw0=', 452: 'AFIT_zNKPyR63IDWxoi5JpM+TXmC0SkHrSPdrWLFX06NYDoA=', 453: 'AFIT_ziN23c6TbqoOvyfE7Ne9D6EiLXGoFMDBC8YHhv9DhnU=', 454: 'AFST_+9hGyUgYGGqr/1tg7SbHuXM2SdoloC0VruPrL3jtm2A=', 455: 'AFST_+NoTO0ItlnsY3BVIot97xdqd429P3E5EDa09XUEQHJk=', 456: 'AFST_+P1T5jsqGWcF0eJ0g9ZX7HHKQdaxE8OTAm9uMUcdRJ8=', 457: 'AFST_+RMaZY0iNBpUgCTfndSjpDAECoYX+P/GE72G6YD9CjA=', 458: 'AFST_+Ti5iuCSbvCPrzcrOWtfasZM9ALnysMq1mdbcPGMklg=', 459: 'AFST_+fMaLoK/BqzaE+L2DM8WjufzaXXcBZG5VcUUspZNkDI=', 460: 'AFST_+gzoIX67Vc3BDtzzSrI8PH2ofTaYmCgjivWJT/o04e4=', 461: 'AFST_+kKhgUgWOsYKFrnH+SXCmnqFK3A+DNBjs7OD4T3QuBw=', 462: 'AFST_/G7JgOWHzNkVUDM/pT0ZHAC6igSeC+EtcTenAR10EMQ=', 463: 'AFST_/MTfZFU+61dycpUuENyS9WNWQ2lJzFJpeJimWfP6smY=', 464: 'AFST_/bibhZIje8ttoNCixHlQeemRHnz4GjfsbvxDN24M/O4=', 465: 'AFST_/dIZEULTf8w+C6Hxd609twuaS2HOnKX5iJy3O/KxuEE=', 466: 'AFST_/o5VxteIj4P6dGS1H8PcQRV1u4NwtgIiJ6jpDu1D4hw=', 467: 'AFST_/wxt/boSaFMKPxB5WUu23+/2PLSjBILyILBzvRlwbiI=', 468: 'AFST_0Ue+KB4emSbIzCM0jKjd3MD9oPIoTOrhyb+h/Lao9sU=', 469: 'AFST_0YQd00Wmq6WYN6jpLOJG7XlRiVbymZiciIp0Y7wDtIQ=', 470: 'AFST_0gbz+MnWl3Qyu4z4S7aRAkbJuqwBpOEcKfld/X11uEs=', 471: 'AFST_0jS8p15o9r9XGaXxvyRc/6AlIE3O+lr+U+M0txxANYU=', 472: 'AFST_0ss+KTEEhjAfMHH/E8cE7cTADqvd6rQhPedjJBLWEWo=', 473: 'AFST_16LYwHmPj4Rl1CX0rpzqxG0iygKYFdkCtRtxsY/MUbA=', 474: 'AFST_1Md/CMIDv+dA/sqoOlDLAQdHtFGDr9Rs/ZFAepOyXEc=', 475: 'AFST_1V5ROfNCWQgQF1bTglNwfGB+lO0mU4Qg71P+eI/WraU=', 476: 'AFST_1ZVMBW08dwVlcFGpeIrL/fhBUHPD/e/GeWnxeLebdcA=', 477: 'AFST_1b0C6oB6OkFDSX62RkGNvZtju5x+gsGyTkwNU+I90w4=', 478: 'AFST_1hvim4wTH/HbwOfxrmk85JG+O5WdCjNbZ9478ruHXnY=', 479: 'AFST_1oDRgrwLsa5U4QPmdiAlPgTECan4WKcnpIlulLOekRk=', 480: 'AFST_2DOrd5wHHjYbtrSvQ+SyTH6HUDID5z+XV/cV8aYOSzs=', 481: 'AFST_2FNAlCwCZFJTzhZeSQHNbqJjvTDFEkq+EvR6MIZlhkE=', 482: 'AFST_2G4l1Ii3MLxP5Z+n2KiQr+giJvM0LwWsiHnVHrGxZG8=', 483: 'AFST_2QpfEaWqPcK0otBl28RH07Z/SeYdvszbpZDokQSOMvc=', 484: 'AFST_2Qvvkknck5jz5iEpRsax61fo7+amGIEH2F0CxFNT7Y0=', 485: 'AFST_2VziTnNcOEjz0eJltsX6I8ofI8jPL5W5z+tpe7RnH4o=', 486: 'AFST_2Xcma8694gLUzbF894moDZhMNKxdocW7ujCcgdxBs3Q=', 487: 'AFST_2an8wbAuzW5v97zfe88Y68DCCGWXRLe3qPAIXhtMGMI=', 488: 'AFST_3411giRZaJUVDGGDnzDacc2ihr3g2az9PUOTOAy7tbo=', 489: 'AFST_3UPs8Ec8pgmpKmleUzPZ8fnBzfpzQAXWHci+OeTIOV4=', 490: 'AFST_3Zvx8B/3B4C3bLO+B/b2CLEN2QDB7HbHcgoz3Mx/j5A=', 491: 'AFST_4+BHEyXUj0qwFvnfiUPsiGRT2ZPYpyMqd1XqWTpYZ6A=', 492: 'AFST_490DoH1DQBjn66YXgGs6sIJX2OBhQrYnEdiz442xamk=', 493: 'AFST_4bdD1C3D9WFfnmQVMu6Rn/ClPfZs7RRulgtjRSE0h28=', 494: 'AFST_4eEU7XxcaSRPrxPNNzwCzhRSjqtYiRd7FgpRFCjoY9E=', 495: 'AFST_4nXzf/c9SqqPbc1tEFjWDisE7ihWQrnK4Hlzx9UoEjU=', 496: 'AFST_4zERfiVQAd2HdHmepIUC2i83QY7oTBgzv8UeItSn2hU=', 497: 'AFST_5AOJgpHwSWik4zfOpQNkjCICo+Lj2wo2ZK8oUuDN2XU=', 498: 'AFST_5YxiwwMkKYGOPgCxCcP+8CkJIsmKyrNNN9UbOKbZb2U=', 499: 'AFST_5vNCVIwbIfJT4IH0z/ADNFqUWFl0+nY1HQOnmYBdjQQ=', 500: 'AFST_61c2ChKJfLjn4kUK/dBT3mvoNpNZK5mJQE8cb7OmESk=', 501: 'AFST_6464PMs+P3T+oH9mf+eHqILRJ94T82+ZVajEvy9y23Y=', 502: 'AFST_724ItZuOL/mHyQNkBgWibUQnHvRD2Sh23hRd8dd+6/s=', 503: 'AFST_7CWPCiRrDXnoeEeqJWpO8pTSODTTHvWBPyFEV1E6zvM=', 504: 'AFST_7TGddiYXIi3/4/EaUK/ycqY/ZpJR9mYs8B0032xkYAM=', 505: 'AFST_7j8bB1PJmt6W6IOlnwgWNpwyrylSKNCXFRzqRykhGJs=', 506: 'AFST_7jitRh8ZVopLPgbNVtEI7eh/ew3E0I96IFlNd0q+srE=', 507: 'AFST_7uThmvwfX8pBkMzBnjrwVL96CRb4AT4ezaaruf+gzLg=', 508: 'AFST_8/UBFaC+EC7Cw5iNFFMklEU+XiIvdtdSnPLJu1LhrrY=', 509: 'AFST_8Hb7+7aAsy1VoOdnmtbqfGHB1RtIJqspmIwbcCYomLA=', 510: 'AFST_8JmqdX/K8HCSEdM9fi+kzpojZSwTyrQ9xAqLW/af9JA=', 511: 'AFST_8Wf49XBgCGcgNABdZXXPWdnO9x9Mch03p/MePiH9d80=', 512: 'AFST_94t3CjlAjrTVQlEElw83MbgSwrwH4nitLQyr1V/BwHI=', 513: 'AFST_9GbScvHE4wJvxYqcawKrsFa+QzXbf/xi5xkEucn6P24=', 514: 'AFST_9lRHVkyk8MlzXK5dVVJmWVbLC9jFTdjKfZm7nqGnrZI=', 515: 'AFST_ABTPvhUckI1Oz9TO39q7IFIXgPg55byPvTs6JoL30sI=', 516: 'AFST_AJzMGh0IPXy8mQyjH91vwAqH19cABHCm/ULXETuYiY8=', 517: 'AFST_AMG0KtTs/6D06x1m87ZJrKYvBJwPtMJLIyCz69eDsJ8=', 518: 'AFST_B2WhWBx6hc2GAgBEDOGY4Z3bTKBUFuCIzwlBdq0Q9m0=', 519: 'AFST_BKgtl5SrugPAH6s+Ob6cyUmUfpTKwhEWn8GhTY8yFEE=', 520: 'AFST_BcTZxLl1zMjN2MgiyKHX1clW3CzKpx+Iqatzub1PE14=', 521: 'AFST_BpShI7dXX6/qqjCHNHBXX/wlz4sJI36UrCSre2awUaw=', 522: 'AFST_C3BwxOo2jePEb4uZdG2MafJ2lvixnwtoJLimJISXAVU=', 523: 'AFST_CG6OFw4nbaWppt2XSQiU854ZaSH+S1Y4vCTIvsYzxhA=', 524: 'AFST_Cf8y9sfv8A3SM3T9WFaYF/YaCDFB4CS32BhVWCeprBs=', 525: 'AFST_Chccbhavj9vaebwJjuz5mWxLRc6l3k2LvwerQbENZBM=', 526: 'AFST_CpBU5YKvQoCjChQQIVhZUKmCcChN5n6Rohj5DoDHwdM=', 527: 'AFST_CvyCqN84tnDWgDVZX8ZB8u1s9K2x5eNZ6dX3GTKXFFI=', 528: 'AFST_D3JGFw0FQUyunvbRMx3FzRRug/1EeHYfFwBOa8z8rr0=', 529: 'AFST_DRtDegkvpvhLx/MABrFU0VSL+P/PHEMxIhOcYbLQ//U=', 530: 'AFST_DTVKM1zVOI3DmjKthjDTtnZGbeO+OqWh0YZavCylPq0=', 531: 'AFST_DgUCJT6J/jQsybBuAz6W7j5Lp+TUIWegfN/83YW/OoY=', 532: 'AFST_DihItvQCgt1zQyuEmIUYu3nUD1oZqsz3DRFfy+JIqjA=', 533: 'AFST_Dz7v8ieyv1IIpi/jt3JhYszl55Ti/SL2cE5YiKGQ9pQ=', 534: 'AFST_E72kKawpsZtQB1mK4PJ0bopuB2LNzIwWLkxvgdVCywM=', 535: 'AFST_EHEoWjJ20RAZYUc6D113XFx3izW9hwEqq9ePqMByehc=', 536: 'AFST_EHa/e8aFElWhQZJilh70lHAjEIzo/aebqxnRLfpIcO4=', 537: 'AFST_ESaczP3/IVoz6jCfQtkc/XeLe0Boqks1DdvhiR7yqHg=', 538: 'AFST_EdD0nI7cM8vEkE4QJEvZ7F3srTYaKtY7yhuEXm9KGXE=', 539: 'AFST_Ek0GUditZ2JaOfq1QDwz1Ge+JKra9X11xB0bHBReEAM=', 540: 'AFST_F44SENm3hXJFIRNYZb2CgWa7x6bj80HW4eFGVUrprpM=', 541: 'AFST_F9E3LL7Kh985saCqKBn0c3ii6tOVs16DEPz2FVqbeWY=', 542: 'AFST_FKCtMWPFSZssfgm52D0i+zLmIC8QGW5BiauNKSvNjzs=', 543: 'AFST_FLQoHztHr9vy/zMTwSi6CQuf9IW53vwCPJTXydQO01s=', 544: 'AFST_Fg+K1gFXby5Bvly/wxbxrBoEYZhEAr14RjXE86Anlls=', 545: 'AFST_Gc4Qj8eNEv/G0stuxWl7zVWi/wjzUSWmVclik3hHoFs=', 546: 'AFST_H2JsgXms+oPIWQgSoI1iQeUwUhZWadq/JdtU+JWc9b8=', 547: 'AFST_IGW73jL9NdsS5a3hWJU1af5d7h086oQppsaaK9LV/wI=', 548: 'AFST_IWxvcKRgG5oke74bN1IMgR7r8zKIB4oZUTHhWEE+F9A=', 549: 'AFST_IYwXs4XfuxaKebVYqe1Yt4wzckYs0fYr4CEIXnZnVgc=', 550: 'AFST_IhSP8N4DzNtki05jR/GgyC9kubmeKYURK4/qACvQGjc=', 551: 'AFST_J50dUW7V3Qc59Y7yePp8YL4eaZDAfzD3T1kyOTS6/ss=', 552: 'AFST_JHqEpd+TL5xVSiBGzTM5ihJ2bZgLzvDJrSibaqVX70I=', 553: 'AFST_JTWw7cdWhuzGPUvH6ja1zRVYDLrcQaZ/I8FQAUv3rgE=', 554: 'AFST_JUwSaRpbi/y8QypYeWoCX8hYqrxVWk7HBxcs5wApqfI=', 555: 'AFST_Jo1akekRqU9QhiICgagP34vEONvdC9J0FFkUfHJUOgA=', 556: 'AFST_JqSth5gKEJoG+MV5hunPheFegwSEVjlQlLYlqytlMn4=', 557: 'AFST_Ju8AQESnTOgB7/zhdpclckEQajsm+M4xg76hHxuaAOc=', 558: 'AFST_KIkfjo1Ha5CkQqvJGztrbQTFBymZhjWtNMPNgRVdlPo=', 559: 'AFST_KJcfvEjncxda+wpDvMIEUa6LTPG5BQrQ0EuNKDfuGtM=', 560: 'AFST_KZT15rUnN/tc3Ao55Kalteabs1NirmZ+E1n5WzWHwJw=', 561: 'AFST_Krk95hgcNFKy39qkI7LYqN5SXlsLxmH8WDb7ZaU6VW4=', 562: 'AFST_L7OwYHVylPk0rWLELj8BUNuXe+30xvQDEklonVwSqVs=', 563: 'AFST_L887zt71Np/ETLfIYFaPBTlc4J+uxIqpAtUC1Yp8epA=', 564: 'AFST_LPAh/u3aYGy0b9PuIxsCavKzKSpHd72LuJ36UohOXjQ=', 565: 'AFST_LplJtBF+kYKpc//R6E3JUj0+EnK0CWmSEbksSn7fYiE=', 566: 'AFST_Lyum+hkCLWwYifFhG4DdI4cJMs2frF0k3WgohLvr7wE=', 567: 'AFST_M2aIl01y1LN5wEU7clzRKZKK4DFnEXsn+B9A48KhbNA=', 568: 'AFST_M3ZiHcdgYyWSS9HVpCezKzgk6C6rwCA4T18LNTcUgcc=', 569: 'AFST_MG/zNOck4gS/YZUc+C3lRpKpV2pmXKJV6iVenpDAh64=', 570: 'AFST_MMEzNDZ8B6rUkYKPAWbsMZpivOl524KHf6YYW4E/Fds=', 571: 'AFST_MNhTLdfHiqztF5fHn8pRdsr1h9wU43XeH62AYvNkfVo=', 572: 'AFST_N2aMjmxK2MfynxHdtK2yCur8LltmJ8gUXjEQLjXsCyE=', 573: 'AFST_NCnjhj7TJPw9t8QVRAo0TCu1r1kRAt4b2+zgwKouSl8=', 574: 'AFST_NVMqpInhbPaMaLDy0OuA03rgcJVUWAk6b+RCINxh7yg=', 575: 'AFST_NXqUg2VUVfPS4PyahaxQwoR5OfwSr+dy8IcMTM3Al5M=', 576: 'AFST_O+c0Yd3AXDDyvTEP8JgtVHvFby0KnMyXA1vwlDSlkbo=', 577: 'AFST_Oz2GwQP4LL2HUyvVokbgUllyDcBfSNSNJIvIRsQLvuQ=', 578: 'AFST_P3YA76kl8jqrHlCd8fCpKoUVsf7CQd7de5fbDuoKLF0=', 579: 'AFST_PHFxbytvKYRmiCQNubzjCjS0N4ZqXty1i/TSaXerMho=', 580: 'AFST_Q0sFA1FTEFzyka2c6hsM+f8aBLOBGR6irT6AVTrpK1k=', 581: 'AFST_QIWeUdiZHMUxoEdVhjz6A+E9lsV5NGaBbj/VJmRlA6s=', 582: 'AFST_QZMyY3+JU988LLqzk/WmtH4i5e+A1dOfSB+WDF6nY/s=', 583: 'AFST_Qaz1aUP18P3IMNhsp4cMo9ii3/4++uiBn5Ors7Z/9i4=', 584: 'AFST_QcZC8Bs9JhGd2Hxvnefcptj2MYom6IfjzpijfEEX3Ws=', 585: 'AFST_QivWYRMOg6Fvo/1YOqVv3GRgq/Ur8rrlwPmvb3h1Bzw=', 586: 'AFST_QlaHAwMc0cuNHS8kRcbCWFl4aLBHVgbQcSOi0yG3HYg=', 587: 'AFST_RKqZgf07CRP+VrWQ6G3cNZoVlbq3QXotjSwIK+V8fpM=', 588: 'AFST_RLcE1idpTwku1WJDaj2xuDNdlCsdwKiEEZ9vY2rvYf4=', 589: 'AFST_Rf4ZolV5G536lJ+7d+BIPWqTADW8st9XkzAb3HcDZ88=', 590: 'AFST_RfASSlbJczp5BVRbecJxWJqZroFeIcHKTBpm+YmMWtc=', 591: 'AFST_Rpk720zxBgVqfcGd+/JM58ZczwozQTu9qdOx6H8QtqU=', 592: 'AFST_SNYBPS4ZmNCZmgZz345rsds+zomfAV0yk5Hq3lSuSwE=', 593: 'AFST_Sa7gUcX1lGGOXBIJb0IktjX1p4s2lxMj4+8YzoCQqxI=', 594: 'AFST_SobRqgBRE56saujuzusnJnqSWKpVnFZg2xsIhZXTAqs=', 595: 'AFST_T0hDrTE/II/mj996XFtrdfbVzByQyb0Wgw6lyES4IQk=', 596: 'AFST_TAT8YmjwhmsEytqmAmbftRl0645WB3oZA98lMVgm3gc=', 597: 'AFST_THjrlXYWPd39S0PGsQCkX0TGSn4EBmDafLFna3OEqfM=', 598: 'AFST_TJHH+woDYsxPCE8bU/oNYx3dp0j5vyRKGrNjDHw3YIg=', 599: 'AFST_TUSPQNkm/8tvoRiLkKfWNdZt9avIcX7AGMDJQ6U04bE=', 600: 'AFST_TuA2G4GjZgx7Ni1FmV2/SwgqxZH8Dxfw3eC6pN+dCTw=', 601: 'AFST_UB/+/4VCn9ooDi68CzszNGuGdBJiBqUQraB1EKcDYJs=', 602: 'AFST_UFo7YbNLxp900X68ysk/Lb4HGkw5SEhb2WoYZGDO3Y8=', 603: 'AFST_URWHs/n/T+WSn08H/ORIcMG9UEa/BBd+4DR58Hjf390=', 604: 'AFST_Un6WylEaskzFVeXhs/Hq7qnRI+7Hl23RWaNPxmUa4Pk=', 605: 'AFST_Uon/hvIPEEQTscvURwvo/igku094PQTSZqtr9q2Tcyc=', 606: 'AFST_UrqxryQPs2LyuQGSjMj9g8XFjpyDrIg6rXE/pFnC/zA=', 607: 'AFST_UumdoCGilHtHDvLLmH1jaEhSosOTaUGKQrcX0NHrub8=', 608: 'AFST_V2OkKAfqJM1MlrCTMCI/P28kxShTS9c+1uUAubTTERY=', 609: 'AFST_V8i5REKs/sr3QqdEvFqHuk0uM7dX3YugcOOVV0iiKYg=', 610: 'AFST_VTPlUmANlAg/Uabb4+1ZvMBk7xbOLWHLGwEiXjE/GdI=', 611: 'AFST_W5qy0NAWZ2j96403/P6D9KJ/rdiAREdfoQRG19sTK38=', 612: 'AFST_WPXFffQDK8TyVmQXm48qmQN0YAJSVq3p5k+lCqV9f+E=', 613: 'AFST_WSz+cqp76jqjmiUUJX4ERXWcjzjHriSdI3FYo1yutkM=', 614: 'AFST_WcO1Uci2aTlUgcnBP6wn3RM4G1TBElV4N90GOTp82A8=', 615: 'AFST_WzA4Xo5tO9h0fOzl4DgtztWWH1Kt+NVyV/LotMGErvk=', 616: 'AFST_X/W2iYpdiGP28UqgEQrmy1M0sfitlvzrHR53R3JSO0g=', 617: 'AFST_XGd8Z+7o+2aLBVyuf+B2j8vFZqtBKYjkl1ETwPXXDSw=', 618: 'AFST_XWJ+YW6M4tJZUregvw4rxqb26+kIS1CmbDIT+TGd6RM=', 619: 'AFST_XvXs7UnJuXvXZEG4QR107c4o2TY/uCl7LsD1Y2iJuAY=', 620: 'AFST_YRF//w+MwbqTDxBQPWLYmj1K5If0kewY8RR4gz47Ojg=', 621: 'AFST_YhuIm6tyAnZGsnEY/GZ3C+tKWyqsU5bZtal8rLV7HSM=', 622: 'AFST_YvWjL1iQGR63+VO154Gt42SHNoustGrZIZHohslGlNM=', 623: 'AFST_Yx+RQGsH7YMtpI4/iSdkM+22u3entFHiK9ktsLD8sPE=', 624: 'AFST_YxR+lDoFqAeIl8IoXE8hmy//ZWax6q97gGGrnE3qbro=', 625: 'AFST_ZEZyjGJj2ExwcFlXMv1OzJpFMcPq6jNeVeMz2NybUVo=', 626: 'AFST_ZHyTmCXZRQ42U6BVkvis0z/tEyS9k+/ItJUe3zI9Nkw=', 627: 'AFST_ZIMPHHE2HW502tL9PgtqAaWbbItl1FoR4PwQw7FxxE4=', 628: 'AFST_Zs+jngPqMlWp0H6YtgotJ+gzOsahnqg3asyBhxdfO6s=', 629: 'AFST_aF28+4HPSE66ileUZ6JorC+l51WH0B9M5dDTTpGknFc=', 630: 'AFST_aqQQEQ/WfW0Kkl+dXbVxKR9mRSHhe9giGx/YCQxvpFY=', 631: 'AFST_b/1RBCsCH07Ki1264rEJo9OjGe57fq9DknSYq0c7TkM=', 632: 'AFST_b1kvVJPFFvRhzfa+YwMUvVrjtbIMTuvVJ2l+ld7eCoY=', 633: 'AFST_b2WcfCPY3pzWd/VKKxlyNiOZ65JKTmpwGyLd+NSrZqY=', 634: 'AFST_bcvRTlzeNl3Ov1enJ2P73YHQK61lP8caLYM7FzHdknQ=', 635: 'AFST_cEAZVp9DG/0jaDbThzPwl0cgAX3wMbnuRm9i229deIs=', 636: 'AFST_cRZuOW2Z0nGzSdFYdX6eE7/0YlT84u5LfT2rjc7e/lY=', 637: 'AFST_ccv/U2VF4xODItfAtCTq7hZyAEdNUoMEi1zqX3T11Yo=', 638: 'AFST_cdE/FX9nkbVSRcSSisnLvQZsXbL7E8XAnw3C0Kgxc9o=', 639: 'AFST_dM4GEnTbPNMZMtHvRaamUPzLiQZdiQKhhSxzzq4+5jA=', 640: 'AFST_dSMRDLDF1CZb9GPYC1UiP7BIHyBWP8wsVd3siMeI1XA=', 641: 'AFST_drG8wvTOxZA0k1pOnka/AQwkv2DqPXri94bEjZWQn9o=', 642: 'AFST_dtZGZ/LHfOi7rclDg+UHUwAznBl6B9JE1dLWjjJ5REo=', 643: 'AFST_eSChmEcvXBSL2SDPo4fNy3eHV8jBmT9f3HKh91d7FNg=', 644: 'AFST_eaWHxa1/CHbT8AXVdVo6T66EHN/t7ccb2O1jNpATx0E=', 645: 'AFST_eo4YI18w7tI/xxl8Jm0E73qcLxSuAo956rtMLX6uE1M=', 646: 'AFST_fDGX/Xnb601yiwAhIWDrmWPaZWDNUPfJ2Rs5wupyH7E=', 647: 'AFST_fG8gIozTOYUfKQAIpho8/brMbdFvBdsjfmR4BWifFjA=', 648: 'AFST_fQwcfCUg9IC8A0zV1YqC9hkjzVJQRZQJfOzIKuy29O8=', 649: 'AFST_frDSxTNK5yqzrEhVh5+T6+hA6OK+y5pgJOsDfOpUNTY=', 650: 'AFST_fzeGJIQZKg8ysEBKNeI0klFv3nKxsyYHAY6l+OUnBpg=', 651: 'AFST_g6VJJZR2PeuYhtkHgDiE6O+x0KdgYKbdmR+0XoVoDd0=', 652: 'AFST_gAlbECuR8HaJOPLLdOkurRhS56FYwb3vhbZc+rcPxWI=', 653: 'AFST_gJu3IvVc2xgkgUhQrzexuSx4Eg+qdu9B68iddrb+M48=', 654: 'AFST_gTk1BdICX5VPWSIr/A4RFHHGjQlz+nneDtD7DGgqQ6s=', 655: 'AFST_gUmWHPNwbQO7eVgPrj0W4VSFZ/3MZyaBlNQIIHP2aBk=', 656: 'AFST_gZAd93Polb1wOrdiZecwNxkUU6m5/rG7+ib/3XTbg8A=', 657: 'AFST_hIOyVEHTmZOSV878Fj+lStVp37Tqk6DizDjSmjwyN8M=', 658: 'AFST_hX5iuFOh2XNF15jz6U7sqNRs1oGdGU3sczAiOLq8mQo=', 659: 'AFST_iPIiYvnuvagyIRWfwGigLJq0CsHODhlDaLW821GWBMQ=', 660: 'AFST_im8hDLzB8riYW1faBL9ar9YdJBtGwDoxoqZRSOD+1dk=', 661: 'AFST_ityv15xgI1ShBC8UTdAsL/4xSBmvOogbBUQdLCHivrA=', 662: 'AFST_j0uwt/VJnrfjUFX9MMIOX9pPxLKIFxSimgUuNSzoUtc=', 663: 'AFST_k58HteP5BrjXHxvFII8XrI1H3OGw2enHtZKJeIlPSV4=', 664: 'AFST_kFZWRFYTGQt+uD2snnL3m6jjtJrTAM3fwB8PvzG1c9A=', 665: 'AFST_kV+CGctOTul7nRnJOCJDSeX5AwJCKEY461TKFgU3Z2I=', 666: 'AFST_kZo029QxQ/wdZrLs1Gqvce2e97DUk/hiCOLnut57bZw=', 667: 'AFST_kmKkTGvUykJepVvnmsEt697K2gp/viF6sLDhMc9u8aw=', 668: 'AFST_lHvnGuYl5SkpW9KDJRP2MYSATWPTGUrHxJRZjEqFkHY=', 669: 'AFST_lJfawRdDzP3TuZWAh6uf5cZRVEzCEQxB/xYogTxoPGs=', 670: 'AFST_lNPF+yYwfcMkCAZ1nwgC+jc1zbO/fH6fuEXc/e+9eM8=', 671: 'AFST_lOFwPU5Xari6jQVmGoV4ZjRbsR180r+xa7wiJ+3+uNw=', 672: 'AFST_lbGzbNNBRei9VKpqeHPRA5+xM9bV265xPQ4p7PiH9u8=', 673: 'AFST_lg8rgimIcE9e46NhD6VmMwKjmn944U3FBAUZOr3KE8g=', 674: 'AFST_lhAU21X4+C92XQhwRGvugW+b61kJC/L1KjEgfRld0pE=', 675: 'AFST_mzmmnMHEfKOUtMB7/8JeJVqHuqmel5GXFVnfEYz1SXU=', 676: 'AFST_nJI/TKC2UEa7U6uTc3HpVIS8aficySR509gjo0/ae0E=', 677: 'AFST_nVfST5JA3AHSIF8LieFWttMquKjc20twmr/0etM9K0I=', 678: 'AFST_niPbqFuPm4EFtQIs2qZ8K+CNzkDwkPceV3Ikq6vHzKE=', 679: 'AFST_oiCQt/OvI6Ui2AkSR42OzB9XUh8nixGEKEDPrjLa1fE=', 680: 'AFST_osFJtyAxnItKVNvCG16YCarLtJ/1cTl5tEHDhYh6lNA=', 681: 'AFST_pFp4KPobrpBY5/K3NkSgFNjoPTo935tI7qHqNe3WYUQ=', 682: 'AFST_pY1ydgVl3V9A5EEYpNOaCJAITcs8elNQKjDRfIP7BDs=', 683: 'AFST_qnxl4IhqluW9VWtXj8Q3wDZR/1AuDxnNEOx0nazgeUY=', 684: 'AFST_qv0b4ZlED8wRkdMS03ZEQHVp1nxQuejawuj4vUjj2es=', 685: 'AFST_rKyj6qLyfyWtywfZ5MQZx4tsyy6ukWxMCO2ssjII/x8=', 686: 'AFST_rLY6OctVKomdubnF8jakv6sWQk4K8STWuUyCCA1BWQc=', 687: 'AFST_rOdKhfAHspkBh011jYKiWpX612BcqgicvLoXqPUT6p0=', 688: 'AFST_rW7UgCvYrnEBzUIsCEOd8BLrl3NzOSwUpEIMJ1o3eGc=', 689: 'AFST_rdw4X9VwDjoPkktmagP7WHlUD0aGQp6ukLeQiNOyGBw=', 690: 'AFST_rhUHKAXm4JJK963jOJRJrHT9nkpgcIVoH13Soz58FQE=', 691: 'AFST_roQWmSiOoFhr3z1jPbQCpOH381LYwwFfHflnzwaVb6o=', 692: 'AFST_rr3p5ud2jrgr0f6lZkwW21lzsiO08NenZh7VfQ4dDo8=', 693: 'AFST_rx6cmqE5W77V5D/TPqGD0NpqY8UFam6bjeFsTSM3qrU=', 694: 'AFST_sDbQETLAf31OdDUAgnO7Xm86wKamk1yfCZnRRhiXny0=', 695: 'AFST_sQZIt3YjzHT0A+rZrRJDxJz+puwEcsbcc6F/Om3f4ks=', 696: 'AFST_sglLj7R6snMu0WEryY7LEM0dSvIINUWpHkB42Wd8bA8=', 697: 'AFST_tLe7KQYSjirLsMdFe5JXTRNDBrNOEL1IJVq4XsnyrJ8=', 698: 'AFST_tYXs0wIqhCex5fKRIhFRIaf1L3vVVvxbuqQ8v0R43fc=', 699: 'AFST_tt12KDaNCWKyUTzoi0grADq95onKmdvcdrS56i2n7+o=', 700: 'AFST_u+rzTEruS2nK0+GVomDQm30dS9a0JuLWeUOno/G864s=', 701: 'AFST_u9ifwPyjwpNUXvbQytGGJbdgofPxISzYHs+mMQh0oCE=', 702: 'AFST_uGH5MCnz8Q2Eq7CIWYF8P3bDWlDrwdrf8sRzwB4zzAc=', 703: 'AFST_uJDERgHQcRIuoPYXIxVgH/6tX5SvfB9pznqo8VMtRR0=', 704: 'AFST_uOTLXvLAOTybbMbkIfS0qpr1WtnIRw0Vt5ciYfH9kb8=', 705: 'AFST_uQXKTM9RZ2aON5CVJ7tj25UktRxZ7FtxxqQ6IdLvTuc=', 706: 'AFST_uhZqrmTdHoo9mGMiwfBGB2egEP/eNjBpQGjT1rcKGQY=', 707: 'AFST_v8UKSQwohcUuHqCRgtfTA3i+afhHAlBtlYsxKQX/i8I=', 708: 'AFST_vM9yeSVrB90H+uS5PjGwpvL2pmBy+dj+QphAFzTVpJo=', 709: 'AFST_vMP8e9UVbee7H/T9yRIfEV+6P5UJrnACMVRwHVaMlac=', 710: 'AFST_w4EcaafdDrVeA5TGIY30bcmAwmebVH3xIF8an/ErK+o=', 711: 'AFST_w4rSnRJzRLXJTpwZ29avdGJYy03ZyiNR081gBxM0+bE=', 712: 'AFST_wKghdZzCnhjiC45DT5Rq8AByBe/Pn6lHNgwyUM04n4g=', 713: 'AFST_wNQ52JiyhLf/xlPaucty6lkQvKe2z+0dz293CuiBvSw=', 714: 'AFST_x/At55SmJ9bWRpGNUjc4XlDGdVgBuufOpqyJNNljYds=', 715: 'AFST_x5KAnC42N3i37dQBiQfVE/vyc2Kk2qiPGuqKExlhW7U=', 716: 'AFST_x6peBcm33zWh6AUB9DWn6okaCRSZzmGJPLWXzlgeBkk=', 717: 'AFST_xrCYkPOD2TiTnseJ0HntEtAq4KFQ10Zzi8/1Dh4TQbA=', 718: 'AFST_y+K0bgZi3Qpi/iioXPAoAk9zm0Snup5Zjorlwcgttkg=', 719: 'AFST_yJ+4PTsn5NClfx4kHjsBjg9efwr5idRWbT3kyNwRLt0=', 720: 'AFST_yj6opM9q9AQ1h1V7utMYvCAsfESBHX7fdWxHTKs0Tk0=', 721: 'AFST_ynLqBjXz23qUpPfWTjdcxARGXSI5pEjKXEU7i32kokM=', 722: 'AFST_yyJ7ecwlSfz5mvx9sg2alDsNYPUWr9zjjJ+JCBDrxa0=', 723: 'AFST_z8dHoTJgMMaOc85rzSQyFUiBVWw5dZ4z4dIux9dlQIs=', 724: 'AFST_zAOgrR8o9+CbuyoNubBCYZIQcqHEMQ01cr5niXNFHw0=', 725: 'PFST_+9hGyUgYGGqr/1tg7SbHuXM2SdoloC0VruPrL3jtm2A=', 726: 'PFST_+NoTO0ItlnsY3BVIot97xdqd429P3E5EDa09XUEQHJk=', 727: 'PFST_+P1T5jsqGWcF0eJ0g9ZX7HHKQdaxE8OTAm9uMUcdRJ8=', 728: 'PFST_+RMaZY0iNBpUgCTfndSjpDAECoYX+P/GE72G6YD9CjA=', 729: 'PFST_+Ti5iuCSbvCPrzcrOWtfasZM9ALnysMq1mdbcPGMklg=', 730: 'PFST_+fMaLoK/BqzaE+L2DM8WjufzaXXcBZG5VcUUspZNkDI=', 731: 'PFST_+gzoIX67Vc3BDtzzSrI8PH2ofTaYmCgjivWJT/o04e4=', 732: 'PFST_+kKhgUgWOsYKFrnH+SXCmnqFK3A+DNBjs7OD4T3QuBw=', 733: 'PFST_/G7JgOWHzNkVUDM/pT0ZHAC6igSeC+EtcTenAR10EMQ=', 734: 'PFST_/MTfZFU+61dycpUuENyS9WNWQ2lJzFJpeJimWfP6smY=', 735: 'PFST_/bibhZIje8ttoNCixHlQeemRHnz4GjfsbvxDN24M/O4=', 736: 'PFST_/dIZEULTf8w+C6Hxd609twuaS2HOnKX5iJy3O/KxuEE=', 737: 'PFST_/o5VxteIj4P6dGS1H8PcQRV1u4NwtgIiJ6jpDu1D4hw=', 738: 'PFST_/wxt/boSaFMKPxB5WUu23+/2PLSjBILyILBzvRlwbiI=', 739: 'PFST_0Ue+KB4emSbIzCM0jKjd3MD9oPIoTOrhyb+h/Lao9sU=', 740: 'PFST_0YQd00Wmq6WYN6jpLOJG7XlRiVbymZiciIp0Y7wDtIQ=', 741: 'PFST_0gbz+MnWl3Qyu4z4S7aRAkbJuqwBpOEcKfld/X11uEs=', 742: 'PFST_0jS8p15o9r9XGaXxvyRc/6AlIE3O+lr+U+M0txxANYU=', 743: 'PFST_0ss+KTEEhjAfMHH/E8cE7cTADqvd6rQhPedjJBLWEWo=', 744: 'PFST_16LYwHmPj4Rl1CX0rpzqxG0iygKYFdkCtRtxsY/MUbA=', 745: 'PFST_1Md/CMIDv+dA/sqoOlDLAQdHtFGDr9Rs/ZFAepOyXEc=', 746: 'PFST_1V5ROfNCWQgQF1bTglNwfGB+lO0mU4Qg71P+eI/WraU=', 747: 'PFST_1ZVMBW08dwVlcFGpeIrL/fhBUHPD/e/GeWnxeLebdcA=', 748: 'PFST_1b0C6oB6OkFDSX62RkGNvZtju5x+gsGyTkwNU+I90w4=', 749: 'PFST_1hvim4wTH/HbwOfxrmk85JG+O5WdCjNbZ9478ruHXnY=', 750: 'PFST_1oDRgrwLsa5U4QPmdiAlPgTECan4WKcnpIlulLOekRk=', 751: 'PFST_2DOrd5wHHjYbtrSvQ+SyTH6HUDID5z+XV/cV8aYOSzs=', 752: 'PFST_2FNAlCwCZFJTzhZeSQHNbqJjvTDFEkq+EvR6MIZlhkE=', 753: 'PFST_2G4l1Ii3MLxP5Z+n2KiQr+giJvM0LwWsiHnVHrGxZG8=', 754: 'PFST_2Qvvkknck5jz5iEpRsax61fo7+amGIEH2F0CxFNT7Y0=', 755: 'PFST_2VziTnNcOEjz0eJltsX6I8ofI8jPL5W5z+tpe7RnH4o=', 756: 'PFST_2Xcma8694gLUzbF894moDZhMNKxdocW7ujCcgdxBs3Q=', 757: 'PFST_2an8wbAuzW5v97zfe88Y68DCCGWXRLe3qPAIXhtMGMI=', 758: 'PFST_3411giRZaJUVDGGDnzDacc2ihr3g2az9PUOTOAy7tbo=', 759: 'PFST_3UPs8Ec8pgmpKmleUzPZ8fnBzfpzQAXWHci+OeTIOV4=', 760: 'PFST_3Zvx8B/3B4C3bLO+B/b2CLEN2QDB7HbHcgoz3Mx/j5A=', 761: 'PFST_4+BHEyXUj0qwFvnfiUPsiGRT2ZPYpyMqd1XqWTpYZ6A=', 762: 'PFST_490DoH1DQBjn66YXgGs6sIJX2OBhQrYnEdiz442xamk=', 763: 'PFST_4bdD1C3D9WFfnmQVMu6Rn/ClPfZs7RRulgtjRSE0h28=', 764: 'PFST_4nXzf/c9SqqPbc1tEFjWDisE7ihWQrnK4Hlzx9UoEjU=', 765: 'PFST_4zERfiVQAd2HdHmepIUC2i83QY7oTBgzv8UeItSn2hU=', 766: 'PFST_5AOJgpHwSWik4zfOpQNkjCICo+Lj2wo2ZK8oUuDN2XU=', 767: 'PFST_5YxiwwMkKYGOPgCxCcP+8CkJIsmKyrNNN9UbOKbZb2U=', 768: 'PFST_5vNCVIwbIfJT4IH0z/ADNFqUWFl0+nY1HQOnmYBdjQQ=', 769: 'PFST_61c2ChKJfLjn4kUK/dBT3mvoNpNZK5mJQE8cb7OmESk=', 770: 'PFST_6464PMs+P3T+oH9mf+eHqILRJ94T82+ZVajEvy9y23Y=', 771: 'PFST_724ItZuOL/mHyQNkBgWibUQnHvRD2Sh23hRd8dd+6/s=', 772: 'PFST_7CWPCiRrDXnoeEeqJWpO8pTSODTTHvWBPyFEV1E6zvM=', 773: 'PFST_7TGddiYXIi3/4/EaUK/ycqY/ZpJR9mYs8B0032xkYAM=', 774: 'PFST_7jitRh8ZVopLPgbNVtEI7eh/ew3E0I96IFlNd0q+srE=', 775: 'PFST_7uThmvwfX8pBkMzBnjrwVL96CRb4AT4ezaaruf+gzLg=', 776: 'PFST_8/UBFaC+EC7Cw5iNFFMklEU+XiIvdtdSnPLJu1LhrrY=', 777: 'PFST_8Hb7+7aAsy1VoOdnmtbqfGHB1RtIJqspmIwbcCYomLA=', 778: 'PFST_8JmqdX/K8HCSEdM9fi+kzpojZSwTyrQ9xAqLW/af9JA=', 779: 'PFST_8Wf49XBgCGcgNABdZXXPWdnO9x9Mch03p/MePiH9d80=', 780: 'PFST_94t3CjlAjrTVQlEElw83MbgSwrwH4nitLQyr1V/BwHI=', 781: 'PFST_9GbScvHE4wJvxYqcawKrsFa+QzXbf/xi5xkEucn6P24=', 782: 'PFST_9lRHVkyk8MlzXK5dVVJmWVbLC9jFTdjKfZm7nqGnrZI=', 783: 'PFST_ABTPvhUckI1Oz9TO39q7IFIXgPg55byPvTs6JoL30sI=', 784: 'PFST_AJzMGh0IPXy8mQyjH91vwAqH19cABHCm/ULXETuYiY8=', 785: 'PFST_AMG0KtTs/6D06x1m87ZJrKYvBJwPtMJLIyCz69eDsJ8=', 786: 'PFST_B2WhWBx6hc2GAgBEDOGY4Z3bTKBUFuCIzwlBdq0Q9m0=', 787: 'PFST_BKgtl5SrugPAH6s+Ob6cyUmUfpTKwhEWn8GhTY8yFEE=', 788: 'PFST_BcTZxLl1zMjN2MgiyKHX1clW3CzKpx+Iqatzub1PE14=', 789: 'PFST_BpShI7dXX6/qqjCHNHBXX/wlz4sJI36UrCSre2awUaw=', 790: 'PFST_C3BwxOo2jePEb4uZdG2MafJ2lvixnwtoJLimJISXAVU=', 791: 'PFST_CG6OFw4nbaWppt2XSQiU854ZaSH+S1Y4vCTIvsYzxhA=', 792: 'PFST_Chccbhavj9vaebwJjuz5mWxLRc6l3k2LvwerQbENZBM=', 793: 'PFST_CpBU5YKvQoCjChQQIVhZUKmCcChN5n6Rohj5DoDHwdM=', 794: 'PFST_CvyCqN84tnDWgDVZX8ZB8u1s9K2x5eNZ6dX3GTKXFFI=', 795: 'PFST_D3JGFw0FQUyunvbRMx3FzRRug/1EeHYfFwBOa8z8rr0=', 796: 'PFST_DRtDegkvpvhLx/MABrFU0VSL+P/PHEMxIhOcYbLQ//U=', 797: 'PFST_DTVKM1zVOI3DmjKthjDTtnZGbeO+OqWh0YZavCylPq0=', 798: 'PFST_DgUCJT6J/jQsybBuAz6W7j5Lp+TUIWegfN/83YW/OoY=', 799: 'PFST_DihItvQCgt1zQyuEmIUYu3nUD1oZqsz3DRFfy+JIqjA=', 800: 'PFST_Dz7v8ieyv1IIpi/jt3JhYszl55Ti/SL2cE5YiKGQ9pQ=', 801: 'PFST_E72kKawpsZtQB1mK4PJ0bopuB2LNzIwWLkxvgdVCywM=', 802: 'PFST_EHEoWjJ20RAZYUc6D113XFx3izW9hwEqq9ePqMByehc=', 803: 'PFST_EHa/e8aFElWhQZJilh70lHAjEIzo/aebqxnRLfpIcO4=', 804: 'PFST_EdD0nI7cM8vEkE4QJEvZ7F3srTYaKtY7yhuEXm9KGXE=', 805: 'PFST_Ek0GUditZ2JaOfq1QDwz1Ge+JKra9X11xB0bHBReEAM=', 806: 'PFST_F44SENm3hXJFIRNYZb2CgWa7x6bj80HW4eFGVUrprpM=', 807: 'PFST_F9E3LL7Kh985saCqKBn0c3ii6tOVs16DEPz2FVqbeWY=', 808: 'PFST_Fg+K1gFXby5Bvly/wxbxrBoEYZhEAr14RjXE86Anlls=', 809: 'PFST_Gc4Qj8eNEv/G0stuxWl7zVWi/wjzUSWmVclik3hHoFs=', 810: 'PFST_H2JsgXms+oPIWQgSoI1iQeUwUhZWadq/JdtU+JWc9b8=', 811: 'PFST_IGW73jL9NdsS5a3hWJU1af5d7h086oQppsaaK9LV/wI=', 812: 'PFST_IWxvcKRgG5oke74bN1IMgR7r8zKIB4oZUTHhWEE+F9A=', 813: 'PFST_IYwXs4XfuxaKebVYqe1Yt4wzckYs0fYr4CEIXnZnVgc=', 814: 'PFST_IhSP8N4DzNtki05jR/GgyC9kubmeKYURK4/qACvQGjc=', 815: 'PFST_J50dUW7V3Qc59Y7yePp8YL4eaZDAfzD3T1kyOTS6/ss=', 816: 'PFST_JHqEpd+TL5xVSiBGzTM5ihJ2bZgLzvDJrSibaqVX70I=', 817: 'PFST_JTWw7cdWhuzGPUvH6ja1zRVYDLrcQaZ/I8FQAUv3rgE=', 818: 'PFST_JUwSaRpbi/y8QypYeWoCX8hYqrxVWk7HBxcs5wApqfI=', 819: 'PFST_Jo1akekRqU9QhiICgagP34vEONvdC9J0FFkUfHJUOgA=', 820: 'PFST_JqSth5gKEJoG+MV5hunPheFegwSEVjlQlLYlqytlMn4=', 821: 'PFST_Ju8AQESnTOgB7/zhdpclckEQajsm+M4xg76hHxuaAOc=', 822: 'PFST_KIkfjo1Ha5CkQqvJGztrbQTFBymZhjWtNMPNgRVdlPo=', 823: 'PFST_KJcfvEjncxda+wpDvMIEUa6LTPG5BQrQ0EuNKDfuGtM=', 824: 'PFST_KZT15rUnN/tc3Ao55Kalteabs1NirmZ+E1n5WzWHwJw=', 825: 'PFST_Krk95hgcNFKy39qkI7LYqN5SXlsLxmH8WDb7ZaU6VW4=', 826: 'PFST_L7OwYHVylPk0rWLELj8BUNuXe+30xvQDEklonVwSqVs=', 827: 'PFST_L887zt71Np/ETLfIYFaPBTlc4J+uxIqpAtUC1Yp8epA=', 828: 'PFST_LPAh/u3aYGy0b9PuIxsCavKzKSpHd72LuJ36UohOXjQ=', 829: 'PFST_LplJtBF+kYKpc//R6E3JUj0+EnK0CWmSEbksSn7fYiE=', 830: 'PFST_Lyum+hkCLWwYifFhG4DdI4cJMs2frF0k3WgohLvr7wE=', 831: 'PFST_M2aIl01y1LN5wEU7clzRKZKK4DFnEXsn+B9A48KhbNA=', 832: 'PFST_M3ZiHcdgYyWSS9HVpCezKzgk6C6rwCA4T18LNTcUgcc=', 833: 'PFST_MG/zNOck4gS/YZUc+C3lRpKpV2pmXKJV6iVenpDAh64=', 834: 'PFST_MMEzNDZ8B6rUkYKPAWbsMZpivOl524KHf6YYW4E/Fds=', 835: 'PFST_MNhTLdfHiqztF5fHn8pRdsr1h9wU43XeH62AYvNkfVo=', 836: 'PFST_NCnjhj7TJPw9t8QVRAo0TCu1r1kRAt4b2+zgwKouSl8=', 837: 'PFST_NVMqpInhbPaMaLDy0OuA03rgcJVUWAk6b+RCINxh7yg=', 838: 'PFST_NXqUg2VUVfPS4PyahaxQwoR5OfwSr+dy8IcMTM3Al5M=', 839: 'PFST_O+c0Yd3AXDDyvTEP8JgtVHvFby0KnMyXA1vwlDSlkbo=', 840: 'PFST_Oz2GwQP4LL2HUyvVokbgUllyDcBfSNSNJIvIRsQLvuQ=', 841: 'PFST_P3YA76kl8jqrHlCd8fCpKoUVsf7CQd7de5fbDuoKLF0=', 842: 'PFST_PHFxbytvKYRmiCQNubzjCjS0N4ZqXty1i/TSaXerMho=', 843: 'PFST_Q0sFA1FTEFzyka2c6hsM+f8aBLOBGR6irT6AVTrpK1k=', 844: 'PFST_QIWeUdiZHMUxoEdVhjz6A+E9lsV5NGaBbj/VJmRlA6s=', 845: 'PFST_QZMyY3+JU988LLqzk/WmtH4i5e+A1dOfSB+WDF6nY/s=', 846: 'PFST_Qaz1aUP18P3IMNhsp4cMo9ii3/4++uiBn5Ors7Z/9i4=', 847: 'PFST_QcZC8Bs9JhGd2Hxvnefcptj2MYom6IfjzpijfEEX3Ws=', 848: 'PFST_QivWYRMOg6Fvo/1YOqVv3GRgq/Ur8rrlwPmvb3h1Bzw=', 849: 'PFST_QlaHAwMc0cuNHS8kRcbCWFl4aLBHVgbQcSOi0yG3HYg=', 850: 'PFST_RKqZgf07CRP+VrWQ6G3cNZoVlbq3QXotjSwIK+V8fpM=', 851: 'PFST_RLcE1idpTwku1WJDaj2xuDNdlCsdwKiEEZ9vY2rvYf4=', 852: 'PFST_Rpk720zxBgVqfcGd+/JM58ZczwozQTu9qdOx6H8QtqU=', 853: 'PFST_SNYBPS4ZmNCZmgZz345rsds+zomfAV0yk5Hq3lSuSwE=', 854: 'PFST_Sa7gUcX1lGGOXBIJb0IktjX1p4s2lxMj4+8YzoCQqxI=', 855: 'PFST_SobRqgBRE56saujuzusnJnqSWKpVnFZg2xsIhZXTAqs=', 856: 'PFST_T0hDrTE/II/mj996XFtrdfbVzByQyb0Wgw6lyES4IQk=', 857: 'PFST_TAT8YmjwhmsEytqmAmbftRl0645WB3oZA98lMVgm3gc=', 858: 'PFST_THjrlXYWPd39S0PGsQCkX0TGSn4EBmDafLFna3OEqfM=', 859: 'PFST_TJHH+woDYsxPCE8bU/oNYx3dp0j5vyRKGrNjDHw3YIg=', 860: 'PFST_TUSPQNkm/8tvoRiLkKfWNdZt9avIcX7AGMDJQ6U04bE=', 861: 'PFST_TuA2G4GjZgx7Ni1FmV2/SwgqxZH8Dxfw3eC6pN+dCTw=', 862: 'PFST_UB/+/4VCn9ooDi68CzszNGuGdBJiBqUQraB1EKcDYJs=', 863: 'PFST_UFo7YbNLxp900X68ysk/Lb4HGkw5SEhb2WoYZGDO3Y8=', 864: 'PFST_URWHs/n/T+WSn08H/ORIcMG9UEa/BBd+4DR58Hjf390=', 865: 'PFST_Un6WylEaskzFVeXhs/Hq7qnRI+7Hl23RWaNPxmUa4Pk=', 866: 'PFST_Uon/hvIPEEQTscvURwvo/igku094PQTSZqtr9q2Tcyc=', 867: 'PFST_UrqxryQPs2LyuQGSjMj9g8XFjpyDrIg6rXE/pFnC/zA=', 868: 'PFST_UumdoCGilHtHDvLLmH1jaEhSosOTaUGKQrcX0NHrub8=', 869: 'PFST_V2OkKAfqJM1MlrCTMCI/P28kxShTS9c+1uUAubTTERY=', 870: 'PFST_V8i5REKs/sr3QqdEvFqHuk0uM7dX3YugcOOVV0iiKYg=', 871: 'PFST_VTPlUmANlAg/Uabb4+1ZvMBk7xbOLWHLGwEiXjE/GdI=', 872: 'PFST_W5qy0NAWZ2j96403/P6D9KJ/rdiAREdfoQRG19sTK38=', 873: 'PFST_WPXFffQDK8TyVmQXm48qmQN0YAJSVq3p5k+lCqV9f+E=', 874: 'PFST_WSz+cqp76jqjmiUUJX4ERXWcjzjHriSdI3FYo1yutkM=', 875: 'PFST_WcO1Uci2aTlUgcnBP6wn3RM4G1TBElV4N90GOTp82A8=', 876: 'PFST_WzA4Xo5tO9h0fOzl4DgtztWWH1Kt+NVyV/LotMGErvk=', 877: 'PFST_X/W2iYpdiGP28UqgEQrmy1M0sfitlvzrHR53R3JSO0g=', 878: 'PFST_XGd8Z+7o+2aLBVyuf+B2j8vFZqtBKYjkl1ETwPXXDSw=', 879: 'PFST_XWJ+YW6M4tJZUregvw4rxqb26+kIS1CmbDIT+TGd6RM=', 880: 'PFST_XvXs7UnJuXvXZEG4QR107c4o2TY/uCl7LsD1Y2iJuAY=', 881: 'PFST_YRF//w+MwbqTDxBQPWLYmj1K5If0kewY8RR4gz47Ojg=', 882: 'PFST_YhuIm6tyAnZGsnEY/GZ3C+tKWyqsU5bZtal8rLV7HSM=', 883: 'PFST_YvWjL1iQGR63+VO154Gt42SHNoustGrZIZHohslGlNM=', 884: 'PFST_Yx+RQGsH7YMtpI4/iSdkM+22u3entFHiK9ktsLD8sPE=', 885: 'PFST_YxR+lDoFqAeIl8IoXE8hmy//ZWax6q97gGGrnE3qbro=', 886: 'PFST_ZEZyjGJj2ExwcFlXMv1OzJpFMcPq6jNeVeMz2NybUVo=', 887: 'PFST_ZHyTmCXZRQ42U6BVkvis0z/tEyS9k+/ItJUe3zI9Nkw=', 888: 'PFST_ZIMPHHE2HW502tL9PgtqAaWbbItl1FoR4PwQw7FxxE4=', 889: 'PFST_Zs+jngPqMlWp0H6YtgotJ+gzOsahnqg3asyBhxdfO6s=', 890: 'PFST_aF28+4HPSE66ileUZ6JorC+l51WH0B9M5dDTTpGknFc=', 891: 'PFST_aqQQEQ/WfW0Kkl+dXbVxKR9mRSHhe9giGx/YCQxvpFY=', 892: 'PFST_b/1RBCsCH07Ki1264rEJo9OjGe57fq9DknSYq0c7TkM=', 893: 'PFST_b1kvVJPFFvRhzfa+YwMUvVrjtbIMTuvVJ2l+ld7eCoY=', 894: 'PFST_b2WcfCPY3pzWd/VKKxlyNiOZ65JKTmpwGyLd+NSrZqY=', 895: 'PFST_bcvRTlzeNl3Ov1enJ2P73YHQK61lP8caLYM7FzHdknQ=', 896: 'PFST_cEAZVp9DG/0jaDbThzPwl0cgAX3wMbnuRm9i229deIs=', 897: 'PFST_cRZuOW2Z0nGzSdFYdX6eE7/0YlT84u5LfT2rjc7e/lY=', 898: 'PFST_ccv/U2VF4xODItfAtCTq7hZyAEdNUoMEi1zqX3T11Yo=', 899: 'PFST_cdE/FX9nkbVSRcSSisnLvQZsXbL7E8XAnw3C0Kgxc9o=', 900: 'PFST_dM4GEnTbPNMZMtHvRaamUPzLiQZdiQKhhSxzzq4+5jA=', 901: 'PFST_dSMRDLDF1CZb9GPYC1UiP7BIHyBWP8wsVd3siMeI1XA=', 902: 'PFST_drG8wvTOxZA0k1pOnka/AQwkv2DqPXri94bEjZWQn9o=', 903: 'PFST_dtZGZ/LHfOi7rclDg+UHUwAznBl6B9JE1dLWjjJ5REo=', 904: 'PFST_eSChmEcvXBSL2SDPo4fNy3eHV8jBmT9f3HKh91d7FNg=', 905: 'PFST_eaWHxa1/CHbT8AXVdVo6T66EHN/t7ccb2O1jNpATx0E=', 906: 'PFST_eo4YI18w7tI/xxl8Jm0E73qcLxSuAo956rtMLX6uE1M=', 907: 'PFST_fG8gIozTOYUfKQAIpho8/brMbdFvBdsjfmR4BWifFjA=', 908: 'PFST_fQwcfCUg9IC8A0zV1YqC9hkjzVJQRZQJfOzIKuy29O8=', 909: 'PFST_frDSxTNK5yqzrEhVh5+T6+hA6OK+y5pgJOsDfOpUNTY=', 910: 'PFST_fzeGJIQZKg8ysEBKNeI0klFv3nKxsyYHAY6l+OUnBpg=', 911: 'PFST_g6VJJZR2PeuYhtkHgDiE6O+x0KdgYKbdmR+0XoVoDd0=', 912: 'PFST_gAlbECuR8HaJOPLLdOkurRhS56FYwb3vhbZc+rcPxWI=', 913: 'PFST_gJu3IvVc2xgkgUhQrzexuSx4Eg+qdu9B68iddrb+M48=', 914: 'PFST_gUmWHPNwbQO7eVgPrj0W4VSFZ/3MZyaBlNQIIHP2aBk=', 915: 'PFST_gZAd93Polb1wOrdiZecwNxkUU6m5/rG7+ib/3XTbg8A=', 916: 'PFST_hIOyVEHTmZOSV878Fj+lStVp37Tqk6DizDjSmjwyN8M=', 917: 'PFST_hX5iuFOh2XNF15jz6U7sqNRs1oGdGU3sczAiOLq8mQo=', 918: 'PFST_iPIiYvnuvagyIRWfwGigLJq0CsHODhlDaLW821GWBMQ=', 919: 'PFST_im8hDLzB8riYW1faBL9ar9YdJBtGwDoxoqZRSOD+1dk=', 920: 'PFST_j0uwt/VJnrfjUFX9MMIOX9pPxLKIFxSimgUuNSzoUtc=', 921: 'PFST_k58HteP5BrjXHxvFII8XrI1H3OGw2enHtZKJeIlPSV4=', 922: 'PFST_kFZWRFYTGQt+uD2snnL3m6jjtJrTAM3fwB8PvzG1c9A=', 923: 'PFST_kV+CGctOTul7nRnJOCJDSeX5AwJCKEY461TKFgU3Z2I=', 924: 'PFST_kZo029QxQ/wdZrLs1Gqvce2e97DUk/hiCOLnut57bZw=', 925: 'PFST_kmKkTGvUykJepVvnmsEt697K2gp/viF6sLDhMc9u8aw=', 926: 'PFST_lHvnGuYl5SkpW9KDJRP2MYSATWPTGUrHxJRZjEqFkHY=', 927: 'PFST_lJfawRdDzP3TuZWAh6uf5cZRVEzCEQxB/xYogTxoPGs=', 928: 'PFST_lOFwPU5Xari6jQVmGoV4ZjRbsR180r+xa7wiJ+3+uNw=', 929: 'PFST_lbGzbNNBRei9VKpqeHPRA5+xM9bV265xPQ4p7PiH9u8=', 930: 'PFST_lg8rgimIcE9e46NhD6VmMwKjmn944U3FBAUZOr3KE8g=', 931: 'PFST_lhAU21X4+C92XQhwRGvugW+b61kJC/L1KjEgfRld0pE=', 932: 'PFST_mzmmnMHEfKOUtMB7/8JeJVqHuqmel5GXFVnfEYz1SXU=', 933: 'PFST_nJI/TKC2UEa7U6uTc3HpVIS8aficySR509gjo0/ae0E=', 934: 'PFST_nVfST5JA3AHSIF8LieFWttMquKjc20twmr/0etM9K0I=', 935: 'PFST_niPbqFuPm4EFtQIs2qZ8K+CNzkDwkPceV3Ikq6vHzKE=', 936: 'PFST_oiCQt/OvI6Ui2AkSR42OzB9XUh8nixGEKEDPrjLa1fE=', 937: 'PFST_osFJtyAxnItKVNvCG16YCarLtJ/1cTl5tEHDhYh6lNA=', 938: 'PFST_pFp4KPobrpBY5/K3NkSgFNjoPTo935tI7qHqNe3WYUQ=', 939: 'PFST_pY1ydgVl3V9A5EEYpNOaCJAITcs8elNQKjDRfIP7BDs=', 940: 'PFST_qnxl4IhqluW9VWtXj8Q3wDZR/1AuDxnNEOx0nazgeUY=', 941: 'PFST_qv0b4ZlED8wRkdMS03ZEQHVp1nxQuejawuj4vUjj2es=', 942: 'PFST_rKyj6qLyfyWtywfZ5MQZx4tsyy6ukWxMCO2ssjII/x8=', 943: 'PFST_rLY6OctVKomdubnF8jakv6sWQk4K8STWuUyCCA1BWQc=', 944: 'PFST_rOdKhfAHspkBh011jYKiWpX612BcqgicvLoXqPUT6p0=', 945: 'PFST_rW7UgCvYrnEBzUIsCEOd8BLrl3NzOSwUpEIMJ1o3eGc=', 946: 'PFST_rdw4X9VwDjoPkktmagP7WHlUD0aGQp6ukLeQiNOyGBw=', 947: 'PFST_rhUHKAXm4JJK963jOJRJrHT9nkpgcIVoH13Soz58FQE=', 948: 'PFST_roQWmSiOoFhr3z1jPbQCpOH381LYwwFfHflnzwaVb6o=', 949: 'PFST_rr3p5ud2jrgr0f6lZkwW21lzsiO08NenZh7VfQ4dDo8=', 950: 'PFST_rx6cmqE5W77V5D/TPqGD0NpqY8UFam6bjeFsTSM3qrU=', 951: 'PFST_sDbQETLAf31OdDUAgnO7Xm86wKamk1yfCZnRRhiXny0=', 952: 'PFST_sQZIt3YjzHT0A+rZrRJDxJz+puwEcsbcc6F/Om3f4ks=', 953: 'PFST_sglLj7R6snMu0WEryY7LEM0dSvIINUWpHkB42Wd8bA8=', 954: 'PFST_tLe7KQYSjirLsMdFe5JXTRNDBrNOEL1IJVq4XsnyrJ8=', 955: 'PFST_tYXs0wIqhCex5fKRIhFRIaf1L3vVVvxbuqQ8v0R43fc=', 956: 'PFST_tt12KDaNCWKyUTzoi0grADq95onKmdvcdrS56i2n7+o=', 957: 'PFST_u+rzTEruS2nK0+GVomDQm30dS9a0JuLWeUOno/G864s=', 958: 'PFST_u9ifwPyjwpNUXvbQytGGJbdgofPxISzYHs+mMQh0oCE=', 959: 'PFST_uGH5MCnz8Q2Eq7CIWYF8P3bDWlDrwdrf8sRzwB4zzAc=', 960: 'PFST_uJDERgHQcRIuoPYXIxVgH/6tX5SvfB9pznqo8VMtRR0=', 961: 'PFST_uOTLXvLAOTybbMbkIfS0qpr1WtnIRw0Vt5ciYfH9kb8=', 962: 'PFST_uQXKTM9RZ2aON5CVJ7tj25UktRxZ7FtxxqQ6IdLvTuc=', 963: 'PFST_uhZqrmTdHoo9mGMiwfBGB2egEP/eNjBpQGjT1rcKGQY=', 964: 'PFST_v8UKSQwohcUuHqCRgtfTA3i+afhHAlBtlYsxKQX/i8I=', 965: 'PFST_vM9yeSVrB90H+uS5PjGwpvL2pmBy+dj+QphAFzTVpJo=', 966: 'PFST_vMP8e9UVbee7H/T9yRIfEV+6P5UJrnACMVRwHVaMlac=', 967: 'PFST_w4EcaafdDrVeA5TGIY30bcmAwmebVH3xIF8an/ErK+o=', 968: 'PFST_w4rSnRJzRLXJTpwZ29avdGJYy03ZyiNR081gBxM0+bE=', 969: 'PFST_wKghdZzCnhjiC45DT5Rq8AByBe/Pn6lHNgwyUM04n4g=', 970: 'PFST_wNQ52JiyhLf/xlPaucty6lkQvKe2z+0dz293CuiBvSw=', 971: 'PFST_x/At55SmJ9bWRpGNUjc4XlDGdVgBuufOpqyJNNljYds=', 972: 'PFST_x5KAnC42N3i37dQBiQfVE/vyc2Kk2qiPGuqKExlhW7U=', 973: 'PFST_x6peBcm33zWh6AUB9DWn6okaCRSZzmGJPLWXzlgeBkk=', 974: 'PFST_xrCYkPOD2TiTnseJ0HntEtAq4KFQ10Zzi8/1Dh4TQbA=', 975: 'PFST_y+K0bgZi3Qpi/iioXPAoAk9zm0Snup5Zjorlwcgttkg=', 976: 'PFST_yJ+4PTsn5NClfx4kHjsBjg9efwr5idRWbT3kyNwRLt0=', 977: 'PFST_yj6opM9q9AQ1h1V7utMYvCAsfESBHX7fdWxHTKs0Tk0=', 978: 'PFST_yyJ7ecwlSfz5mvx9sg2alDsNYPUWr9zjjJ+JCBDrxa0=', 979: 'PFST_z8dHoTJgMMaOc85rzSQyFUiBVWw5dZ4z4dIux9dlQIs=', 980: 'PFST_zAOgrR8o9+CbuyoNubBCYZIQcqHEMQ01cr5niXNFHw0='}\n"
     ]
    }
   ],
   "source": [
    "# Check if the embeddings file exists\n",
    "if os.path.exists(\"./datasets/encoded_to_label.pkl\"):\n",
    "    with open(\"./datasets/encoded_to_label.pkl\", \"rb\") as f:\n",
    "        embeddings = pickle.load(f)\n",
    "else:\n",
    "    embeddings = {}  # If not found, return an empty dictionary\n",
    "print(embeddings)"
   ]
  },
  {
   "cell_type": "code",
   "execution_count": null,
   "metadata": {},
   "outputs": [],
   "source": [
    "test_embedding_map = None"
   ]
  },
  {
   "cell_type": "markdown",
   "metadata": {},
   "source": [
    "# RNN"
   ]
  },
  {
   "cell_type": "markdown",
   "metadata": {},
   "source": [
    "## Imports"
   ]
  },
  {
   "cell_type": "code",
   "execution_count": 56,
   "metadata": {},
   "outputs": [],
   "source": [
    "from keras.models import Sequential\n",
    "from keras.layers import SimpleRNN, Dense, Input, LSTM, GRU\n",
    "from sklearn.model_selection import train_test_split\n",
    "from sklearn.metrics.pairwise import cosine_similarity\n",
    "import numpy as np\n",
    "import random"
   ]
  },
  {
   "cell_type": "markdown",
   "metadata": {},
   "source": [
    "## Data"
   ]
  },
  {
   "cell_type": "code",
   "execution_count": null,
   "metadata": {},
   "outputs": [],
   "source": [
    "aux = random.sample(sequence_data, 500_000)\n",
    "test_aux = [item for item in sequence_data if item not in aux]\n",
    "# Convert sequence_data to numpy arrays\n",
    "X = []\n",
    "y = []\n",
    "for seq in aux:\n",
    "    X.append(np.stack(seq[:3]))  # input1, input2, input3\n",
    "    y.append(seq[3])  # label\n",
    "\n",
    "X = np.array(X)  # Shape: (num_samples, 3, num_actions)\n",
    "y = np.array(y)  # Shape: (num_samples, num_actions)\n",
    "\n",
    "# Split into train and test sets\n",
    "X_train, X_test, y_train, y_test = train_test_split(X, y, test_size=0.2, random_state=42)\n"
   ]
  },
  {
   "cell_type": "markdown",
   "metadata": {},
   "source": [
    "## Model"
   ]
  },
  {
   "cell_type": "markdown",
   "metadata": {},
   "source": [
    "### Simple RNN"
   ]
  },
  {
   "cell_type": "code",
   "execution_count": 10,
   "metadata": {},
   "outputs": [
    {
     "name": "stderr",
     "output_type": "stream",
     "text": [
      "/home/gerard/miniconda3/lib/python3.11/site-packages/keras/src/layers/rnn/rnn.py:204: UserWarning: Do not pass an `input_shape`/`input_dim` argument to a layer. When using Sequential models, prefer using an `Input(shape)` object as the first layer in the model instead.\n",
      "  super().__init__(**kwargs)\n"
     ]
    }
   ],
   "source": [
    "model = Sequential([\n",
    "    Input(shape=(3, embedding_dim)),\n",
    "    SimpleRNN(32, activation='tanh', input_shape=(3, embedding_dim)),  # 3 timesteps, 1 feature\n",
    "    Dense(embedding_dim, activation='linear')  # Cambia softmax según el tipo de tarea\n",
    "])\n",
    "\n",
    "# Compilar el modelo\n",
    "model.compile(optimizer='adam', loss='mean_squared_error', metrics=['accuracy'])\n"
   ]
  },
  {
   "cell_type": "markdown",
   "metadata": {},
   "source": [
    "### LSTM"
   ]
  },
  {
   "cell_type": "code",
   "execution_count": 18,
   "metadata": {},
   "outputs": [
    {
     "name": "stderr",
     "output_type": "stream",
     "text": [
      "/home/gerard/miniconda3/lib/python3.11/site-packages/keras/src/layers/rnn/rnn.py:204: UserWarning: Do not pass an `input_shape`/`input_dim` argument to a layer. When using Sequential models, prefer using an `Input(shape)` object as the first layer in the model instead.\n",
      "  super().__init__(**kwargs)\n"
     ]
    }
   ],
   "source": [
    "model = Sequential([\n",
    "    LSTM(64, activation='tanh', input_shape=(3, embedding_dim), return_sequences=False),\n",
    "    Dense(32, activation='relu'),\n",
    "    Dense(embedding_dim, activation='linear')  # 50 clases en la salida\n",
    "])\n",
    "\n",
    "# Compilar el modelo\n",
    "model.compile(optimizer='adam', loss='mean_squared_error', metrics=['accuracy'])"
   ]
  },
  {
   "cell_type": "markdown",
   "metadata": {},
   "source": [
    "### GRU"
   ]
  },
  {
   "cell_type": "code",
   "execution_count": null,
   "metadata": {},
   "outputs": [],
   "source": [
    "model = Sequential([\n",
    "    Input(shape=(3, embedding_dim)),\n",
    "    GRU(64, activation='tanh', input_shape=(3, embedding_dim), return_sequences=False),  # GRU en lugar de SimpleRNN\n",
    "    Dense(32, activation='relu'),\n",
    "    Dense(embedding_dim, activation='linear')  # Cambia softmax según el tipo de tarea\n",
    "])\n",
    "# Compilar el modelo\n",
    "model.compile(optimizer='adam', loss='mean_squared_error', metrics=['accuracy'])\n"
   ]
  },
  {
   "cell_type": "markdown",
   "metadata": {},
   "source": [
    "## Training"
   ]
  },
  {
   "cell_type": "code",
   "execution_count": 20,
   "metadata": {},
   "outputs": [
    {
     "name": "stdout",
     "output_type": "stream",
     "text": [
      "Epoch 1/5\n",
      "\u001b[1m25000/25000\u001b[0m \u001b[32m━━━━━━━━━━━━━━━━━━━━\u001b[0m\u001b[37m\u001b[0m \u001b[1m24s\u001b[0m 965us/step - accuracy: 0.3425 - loss: 0.6147 - val_accuracy: 0.3469 - val_loss: 0.6067\n",
      "Epoch 2/5\n",
      "\u001b[1m25000/25000\u001b[0m \u001b[32m━━━━━━━━━━━━━━━━━━━━\u001b[0m\u001b[37m\u001b[0m \u001b[1m24s\u001b[0m 966us/step - accuracy: 0.3520 - loss: 0.6002 - val_accuracy: 0.3466 - val_loss: 0.5992\n",
      "Epoch 3/5\n",
      "\u001b[1m25000/25000\u001b[0m \u001b[32m━━━━━━━━━━━━━━━━━━━━\u001b[0m\u001b[37m\u001b[0m \u001b[1m24s\u001b[0m 953us/step - accuracy: 0.3537 - loss: 0.5951 - val_accuracy: 0.3629 - val_loss: 0.5961\n",
      "Epoch 4/5\n",
      "\u001b[1m25000/25000\u001b[0m \u001b[32m━━━━━━━━━━━━━━━━━━━━\u001b[0m\u001b[37m\u001b[0m \u001b[1m24s\u001b[0m 964us/step - accuracy: 0.3536 - loss: 0.5925 - val_accuracy: 0.3525 - val_loss: 0.5941\n",
      "Epoch 5/5\n",
      "\u001b[1m25000/25000\u001b[0m \u001b[32m━━━━━━━━━━━━━━━━━━━━\u001b[0m\u001b[37m\u001b[0m \u001b[1m24s\u001b[0m 966us/step - accuracy: 0.3535 - loss: 0.5904 - val_accuracy: 0.3510 - val_loss: 0.5925\n"
     ]
    }
   ],
   "source": [
    "# Entrenar el modelo\n",
    "history = model.fit(X_train, y_train, epochs=5, batch_size=16, validation_data=(X_test, y_test))\n"
   ]
  },
  {
   "cell_type": "code",
   "execution_count": 21,
   "metadata": {},
   "outputs": [
    {
     "name": "stderr",
     "output_type": "stream",
     "text": [
      "WARNING:absl:You are saving your model as an HDF5 file via `model.save()` or `keras.saving.save_model(model)`. This file format is considered legacy. We recommend using instead the native Keras format, e.g. `model.save('my_model.keras')` or `keras.saving.save_model(model, 'my_model.keras')`. \n"
     ]
    }
   ],
   "source": [
    "model.save('./models/model_lstm_v1.h5')"
   ]
  },
  {
   "cell_type": "code",
   "execution_count": 127,
   "metadata": {},
   "outputs": [
    {
     "name": "stdout",
     "output_type": "stream",
     "text": [
      "\u001b[1m1/1\u001b[0m \u001b[32m━━━━━━━━━━━━━━━━━━━━\u001b[0m\u001b[37m\u001b[0m \u001b[1m0s\u001b[0m 63ms/step\n"
     ]
    }
   ],
   "source": [
    "random_input = random.choice(sequence_data)\n",
    "# print(f'Random input: {random_input}')\n",
    "# Stack them to form a sequence of shape (3, 50)\n",
    "input_sequence = np.stack(random_input[:3])\n",
    "# Add batch dimension (shape becomes (1, 3, 50))\n",
    "input_sequence = np.expand_dims(input_sequence, axis=0)\n",
    "predicted_output = model.predict(input_sequence)"
   ]
  },
  {
   "cell_type": "code",
   "execution_count": 128,
   "metadata": {},
   "outputs": [
    {
     "name": "stdout",
     "output_type": "stream",
     "text": [
      "Action ID: 462, Similarity: 1.0\n",
      "Name: Certificats del padró d'habitants. Expedició automàtica\n",
      "Acció: AFST\n",
      "Action ID: 440, Similarity: 0.9999998807907104\n",
      "Name: Sol·licitud genèrica\n",
      "Acció: AFIT\n",
      "Action ID: 445, Similarity: 0.9999998807907104\n",
      "Name: Padró d'Habitants: gestions d'alta, canvi de domicili, sol·licitud de certificats i altres gestions relacionades\n",
      "Acció: AFIT\n",
      "Action ID: 223, Similarity: 0.9863439798355103\n",
      "Name: Sol·licitar certificats d'empadronament\n",
      "Acció: AFIT\n"
     ]
    }
   ],
   "source": [
    "for output in [random_input[0], random_input[1], random_input[2], predicted_output]:\n",
    "    output = output.flatten()\n",
    "    similarities = []\n",
    "    # Iterate through each action_id and embedding in the embeddings_map\n",
    "    for action_id, embedding in embedding_map.items():\n",
    "        # Reshape the embedding to ensure it's 2D (1, 50)\n",
    "        embedding = embedding.reshape(1, -1)\n",
    "\n",
    "        # Compute cosine similarity (output is also reshaped to (1, 50) for comparison)\n",
    "        similarity = cosine_similarity([output], embedding)[0][0]\n",
    "\n",
    "        # Append the similarity and corresponding action_id to the list\n",
    "        similarities.append((action_id, similarity))\n",
    "\n",
    "    # Sort the similarities in descending order (most similar first)\n",
    "    similarities.sort(key=lambda x: x[1], reverse=True)\n",
    "\n",
    "    # Get the top 3 most similar embeddings\n",
    "    top_3_similar = similarities[:3]\n",
    "\n",
    "    # Print the top 3 closest embeddings\n",
    "    for action_id, similarity in top_3_similar[:1]:\n",
    "        print(f\"Action ID: {action_id}, Similarity: {similarity}\\nName: {tramits_map[label_encoder.inverse_transform([action_id])[0].split('_')[1]]}\\nAcció: {label_encoder.inverse_transform([action_id])[0].split('_')[0]}\")"
   ]
  },
  {
   "cell_type": "markdown",
   "metadata": {},
   "source": [
    "## Testing"
   ]
  },
  {
   "cell_type": "code",
   "execution_count": null,
   "metadata": {},
   "outputs": [],
   "source": [
    "# Evaluar el modelo en el conjunto de prueba\n",
    "test_loss, test_acc = model.evaluate(X_test, y_test)\n",
    "print(f\"Test Accuracy: {test_acc}\")\n",
    "\n",
    "# Visualizar el rendimiento durante el entrenamiento\n",
    "plt.plot(history.history['accuracy'], label='Train Accuracy')\n",
    "plt.plot(history.history['val_accuracy'], label='Validation Accuracy')\n",
    "plt.legend()\n",
    "plt.show()"
   ]
  }
 ],
 "metadata": {
  "kernelspec": {
   "display_name": "base",
   "language": "python",
   "name": "python3"
  },
  "language_info": {
   "codemirror_mode": {
    "name": "ipython",
    "version": 3
   },
   "file_extension": ".py",
   "mimetype": "text/x-python",
   "name": "python",
   "nbconvert_exporter": "python",
   "pygments_lexer": "ipython3",
   "version": "3.11.5"
  }
 },
 "nbformat": 4,
 "nbformat_minor": 2
}
